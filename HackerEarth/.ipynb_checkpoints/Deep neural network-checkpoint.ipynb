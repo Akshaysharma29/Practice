{
 "cells": [
  {
   "cell_type": "markdown",
   "metadata": {},
   "source": [
    "# On the plague trail: HackerEarth\n",
    "https://www.hackerearth.com/challenges/competitive/on-the-plague-trail-hackerearth-machine-learning-challenge/problems/"
   ]
  },
  {
   "cell_type": "code",
   "execution_count": 1,
   "metadata": {},
   "outputs": [],
   "source": [
    "import numpy as np\n",
    "import matplotlib.pyplot as plt\n",
    "%matplotlib inline\n",
    "import pandas as pd"
   ]
  },
  {
   "cell_type": "code",
   "execution_count": 2,
   "metadata": {},
   "outputs": [
    {
     "name": "stderr",
     "output_type": "stream",
     "text": [
      "Using TensorFlow backend.\n"
     ]
    }
   ],
   "source": [
    "import numpy\n",
    "import pandas\n",
    "from keras.models import Sequential\n",
    "from keras.layers import Dense\n",
    "from keras.wrappers.scikit_learn import KerasRegressor\n",
    "from sklearn.model_selection import cross_val_score\n",
    "from sklearn.model_selection import KFold\n",
    "from sklearn.preprocessing import StandardScaler\n",
    "from sklearn.pipeline import Pipeline"
   ]
  },
  {
   "cell_type": "code",
   "execution_count": 3,
   "metadata": {},
   "outputs": [],
   "source": [
    "df = pd.read_csv('8f86dc50-7-dataset/train.csv')"
   ]
  },
  {
   "cell_type": "code",
   "execution_count": 4,
   "metadata": {},
   "outputs": [],
   "source": [
    "ds= df.drop(['ID','DateTime','WindDir','HiDir'],axis=1)"
   ]
  },
  {
   "cell_type": "code",
   "execution_count": 5,
   "metadata": {},
   "outputs": [
    {
     "name": "stdout",
     "output_type": "stream",
     "text": [
      "Index(['TempOut', 'HiTemp', 'LowTemp', 'OutHum', 'DewPt', 'WindSpeed',\n",
      "       'WindRun', 'HiSpeed', 'WindChill', 'HeatIndex', 'THWIndex', 'Bar',\n",
      "       'Rain', 'RainRate', 'HeatDD', 'CoolDD', 'InTemp', 'InHum', 'InDew',\n",
      "       'InHeat', 'InEMC', 'InAirDensity', 'WindSamp', 'WindTx', 'ISSRecpt',\n",
      "       'ArcInt'],\n",
      "      dtype='object')\n",
      "--------------\n",
      "Index(['PA', 'PB', 'PC', 'PD', 'PE', 'PF', 'PG'], dtype='object')\n",
      "----------\n",
      "<class 'numpy.ndarray'>\n"
     ]
    }
   ],
   "source": [
    "print(ds.columns[:26])\n",
    "print('--------------')\n",
    "print(ds.columns[26:])\n",
    "print('----------')\n",
    "print(type(ds.values))"
   ]
  },
  {
   "cell_type": "code",
   "execution_count": 6,
   "metadata": {},
   "outputs": [],
   "source": [
    "x= ds.values[:,:26]\n",
    "y= ds.values[:,26:]"
   ]
  },
  {
   "cell_type": "code",
   "execution_count": 7,
   "metadata": {},
   "outputs": [],
   "source": [
    "for i in range(1,40000):\n",
    "    y[i]=y[i]-y[i-1]"
   ]
  },
  {
   "cell_type": "code",
   "execution_count": 8,
   "metadata": {},
   "outputs": [],
   "source": [
    "ya=y[:,:1]\n",
    "yb=y[:,1:2]\n",
    "yc=y[:,2:3]\n",
    "yd=y[:,3:4]\n",
    "ye=y[:,4:5]\n",
    "yf=y[:,5:6]\n",
    "yg=y[:,6:7]"
   ]
  },
  {
   "cell_type": "code",
   "execution_count": 48,
   "metadata": {},
   "outputs": [
    {
     "name": "stdout",
     "output_type": "stream",
     "text": [
      "Epoch 1/25\n",
      "40000/40000 [==============================] - 2s 46us/step - loss: 101865.2149\n",
      "Epoch 2/25\n",
      "40000/40000 [==============================] - 1s 19us/step - loss: 95381.2146\n",
      "Epoch 3/25\n",
      "40000/40000 [==============================] - 1s 19us/step - loss: 94458.0072\n",
      "Epoch 4/25\n",
      "40000/40000 [==============================] - 1s 17us/step - loss: 94058.7347\n",
      "Epoch 5/25\n",
      "40000/40000 [==============================] - 1s 17us/step - loss: 93766.5483\n",
      "Epoch 6/25\n",
      "40000/40000 [==============================] - 1s 17us/step - loss: 93568.0263\n",
      "Epoch 7/25\n",
      "40000/40000 [==============================] - 1s 17us/step - loss: 93165.1393\n",
      "Epoch 8/25\n",
      "40000/40000 [==============================] - 1s 17us/step - loss: 92957.1315\n",
      "Epoch 9/25\n",
      "40000/40000 [==============================] - 1s 18us/step - loss: 92609.8954\n",
      "Epoch 10/25\n",
      "40000/40000 [==============================] - 1s 17us/step - loss: 92217.8172\n",
      "Epoch 11/25\n",
      "40000/40000 [==============================] - 1s 17us/step - loss: 91916.0977\n",
      "Epoch 12/25\n",
      "40000/40000 [==============================] - 1s 17us/step - loss: 91533.5920\n",
      "Epoch 13/25\n",
      "40000/40000 [==============================] - 1s 17us/step - loss: 91310.0321\n",
      "Epoch 14/25\n",
      "40000/40000 [==============================] - 1s 17us/step - loss: 90899.1676\n",
      "Epoch 15/25\n",
      "40000/40000 [==============================] - 1s 17us/step - loss: 90606.4525\n",
      "Epoch 16/25\n",
      "40000/40000 [==============================] - 1s 17us/step - loss: 90148.7502\n",
      "Epoch 17/25\n",
      "40000/40000 [==============================] - 1s 17us/step - loss: 89911.9498\n",
      "Epoch 18/25\n",
      "40000/40000 [==============================] - 1s 17us/step - loss: 89883.0559\n",
      "Epoch 19/25\n",
      "40000/40000 [==============================] - 1s 17us/step - loss: 89353.9680\n",
      "Epoch 20/25\n",
      "40000/40000 [==============================] - 1s 17us/step - loss: 89403.9492\n",
      "Epoch 21/25\n",
      "40000/40000 [==============================] - 1s 17us/step - loss: 89119.3743\n",
      "Epoch 22/25\n",
      "40000/40000 [==============================] - 1s 17us/step - loss: 88841.5881\n",
      "Epoch 23/25\n",
      "40000/40000 [==============================] - 1s 17us/step - loss: 88748.1275\n",
      "Epoch 24/25\n",
      "40000/40000 [==============================] - 1s 17us/step - loss: 88346.8876\n",
      "Epoch 25/25\n",
      "40000/40000 [==============================] - 1s 17us/step - loss: 88201.7654\n"
     ]
    },
    {
     "data": {
      "text/plain": [
       "<keras.callbacks.History at 0x7f5112664e48>"
      ]
     },
     "execution_count": 48,
     "metadata": {},
     "output_type": "execute_result"
    }
   ],
   "source": [
    "modela = Sequential()\n",
    "modela.add(Dense(52, input_dim=26, activation='relu'))\n",
    "modela.add(Dense(26, activation='relu'))\n",
    "modela.add(Dense(6, activation='relu'))\n",
    "modela.add(Dense(1))\n",
    "# Compile model\n",
    "modela.compile(loss='mean_squared_error', optimizer='adam')\n",
    "#To remove progress bar use verbose=0\n",
    "modela.fit( x, ya, shuffle=True, batch_size=128, epochs=25)"
   ]
  },
  {
   "cell_type": "code",
   "execution_count": 49,
   "metadata": {},
   "outputs": [
    {
     "data": {
      "text/plain": [
       "<keras.callbacks.History at 0x7f510f5ab940>"
      ]
     },
     "execution_count": 49,
     "metadata": {},
     "output_type": "execute_result"
    }
   ],
   "source": [
    "modelb = Sequential()\n",
    "modelb.add(Dense(52, input_dim=26, activation='relu'))\n",
    "modelb.add(Dense(26, activation='relu'))\n",
    "modelb.add(Dense(6,  activation='relu'))\n",
    "modelb.add(Dense(1))\n",
    "# Compile model\n",
    "modelb.compile(loss='mean_squared_error', optimizer='adam')\n",
    "#To remove progress bar use verbose=0\n",
    "modelb.fit( x, yb, shuffle=True, batch_size=128, epochs=25 ,verbose=0)"
   ]
  },
  {
   "cell_type": "code",
   "execution_count": 50,
   "metadata": {},
   "outputs": [
    {
     "data": {
      "text/plain": [
       "<keras.callbacks.History at 0x7f510f0e86a0>"
      ]
     },
     "execution_count": 50,
     "metadata": {},
     "output_type": "execute_result"
    }
   ],
   "source": [
    "modelc = Sequential()\n",
    "modelc.add(Dense(52, input_dim=26, activation='relu'))\n",
    "modelc.add(Dense(26, activation='relu'))\n",
    "modelc.add(Dense(6,  activation='relu'))\n",
    "modelc.add(Dense(1))\n",
    "# Compile model\n",
    "modelc.compile(loss='mean_squared_error', optimizer='adam')\n",
    "#To remove progress bar use verbose=0\n",
    "modelc.fit( x, yc, shuffle=True, batch_size=128, epochs=25 ,verbose=0)"
   ]
  },
  {
   "cell_type": "code",
   "execution_count": 51,
   "metadata": {},
   "outputs": [
    {
     "data": {
      "text/plain": [
       "<keras.callbacks.History at 0x7f510ec3d6d8>"
      ]
     },
     "execution_count": 51,
     "metadata": {},
     "output_type": "execute_result"
    }
   ],
   "source": [
    "modeld = Sequential()\n",
    "modeld.add(Dense(52, input_dim=26,  activation='relu'))\n",
    "modeld.add(Dense(26,activation='relu'))\n",
    "modeld.add(Dense(6,  activation='relu'))\n",
    "modeld.add(Dense(1))\n",
    "# Compile model\n",
    "modeld.compile(loss='mean_squared_error', optimizer='adam')\n",
    "#To remove progress bar use verbose=0\n",
    "modeld.fit( x, yd, shuffle=True, batch_size=128, epochs=25 ,verbose=0)"
   ]
  },
  {
   "cell_type": "code",
   "execution_count": 52,
   "metadata": {},
   "outputs": [
    {
     "data": {
      "text/plain": [
       "<keras.callbacks.History at 0x7f510e778748>"
      ]
     },
     "execution_count": 52,
     "metadata": {},
     "output_type": "execute_result"
    }
   ],
   "source": [
    "modele = Sequential()\n",
    "modele.add(Dense(52, input_dim=26, activation='relu'))\n",
    "modele.add(Dense(26,  activation='relu'))\n",
    "modele.add(Dense(6,  activation='relu'))\n",
    "modele.add(Dense(1))\n",
    "# Compile model\n",
    "modele.compile(loss='mean_squared_error', optimizer='adam')\n",
    "#To remove progress bar use verbose=0\n",
    "modele.fit( x, ye, shuffle=True, batch_size=128, epochs=25 ,verbose=0)"
   ]
  },
  {
   "cell_type": "code",
   "execution_count": 53,
   "metadata": {},
   "outputs": [
    {
     "data": {
      "text/plain": [
       "<keras.callbacks.History at 0x7f510e2b37b8>"
      ]
     },
     "execution_count": 53,
     "metadata": {},
     "output_type": "execute_result"
    }
   ],
   "source": [
    "modelf = Sequential()\n",
    "modelf.add(Dense(52, input_dim=26, activation='relu'))\n",
    "modelf.add(Dense(26, activation='relu'))\n",
    "modelf.add(Dense(6, activation='relu'))\n",
    "modelf.add(Dense(1))\n",
    "# Compile model\n",
    "modelf.compile(loss='mean_squared_error', optimizer='adam')\n",
    "#To remove progress bar use verbose=0\n",
    "modelf.fit( x, yf, shuffle=True, batch_size=128, epochs=25 ,verbose=0)"
   ]
  },
  {
   "cell_type": "code",
   "execution_count": 54,
   "metadata": {},
   "outputs": [
    {
     "data": {
      "text/plain": [
       "<keras.callbacks.History at 0x7f510dde77f0>"
      ]
     },
     "execution_count": 54,
     "metadata": {},
     "output_type": "execute_result"
    }
   ],
   "source": [
    "modelg = Sequential()\n",
    "modelg.add(Dense(52, input_dim=26,activation='relu'))\n",
    "modelg.add(Dense(26, activation='relu'))\n",
    "modelg.add(Dense(6,  activation='relu'))\n",
    "modelg.add(Dense(1))\n",
    "# Compile model\n",
    "modelg.compile(loss='mean_squared_error', optimizer='adam')\n",
    "#To remove progress bar use verbose=0\n",
    "modelg.fit( x, yg, shuffle=True, batch_size=128, epochs=25 ,verbose=0)"
   ]
  },
  {
   "cell_type": "code",
   "execution_count": 55,
   "metadata": {},
   "outputs": [],
   "source": [
    "dft = pd.read_csv('8f86dc50-7-dataset/test.csv')"
   ]
  },
  {
   "cell_type": "code",
   "execution_count": 56,
   "metadata": {},
   "outputs": [],
   "source": [
    "dst = dft.drop(['WindDir','HiDir','ID','DateTime'],axis=1)"
   ]
  },
  {
   "cell_type": "code",
   "execution_count": 57,
   "metadata": {},
   "outputs": [
    {
     "name": "stdout",
     "output_type": "stream",
     "text": [
      "(22446, 26)\n",
      "(22446,)\n"
     ]
    }
   ],
   "source": [
    "ids =dft['ID'].values\n",
    "xt = dst.values\n",
    "print(xt.shape)\n",
    "print(ids.shape)"
   ]
  },
  {
   "cell_type": "code",
   "execution_count": 58,
   "metadata": {},
   "outputs": [],
   "source": [
    "a=modela.predict(xt)\n",
    "b=modelb.predict(xt)\n",
    "c=modelc.predict(xt)\n",
    "d=modeld.predict(xt)\n",
    "e=modele.predict(xt)\n",
    "f=modelf.predict(xt)\n",
    "g=modelg.predict(xt)"
   ]
  },
  {
   "cell_type": "code",
   "execution_count": 59,
   "metadata": {},
   "outputs": [],
   "source": [
    "pa =[]\n",
    "pa.append(str(int(a[0][0])))\n",
    "for i in range(1,22446):\n",
    "    a[i][0]=a[i][0]+a[i-1][0]\n",
    "    pa.append(str(int(a[i][0])))\n",
    "\n",
    "pb =[]\n",
    "pb.append(str(int(b[0][0])))\n",
    "for i in range(1,22446):\n",
    "    b[i][0]=b[i][0]+b[i-1][0]\n",
    "    pb.append(str(int(b[i][0])))\n",
    "    \n",
    "pc =[]\n",
    "pc.append(str(int(c[0][0])))\n",
    "for i in range(1,22446):\n",
    "    c[i][0]=c[i][0]+c[i-1][0]\n",
    "    pc.append(str(int(c[i][0])))\n",
    "\n",
    "pd1 =[]\n",
    "pd1.append(str(int(d[0][0])))\n",
    "for i in range(1,22446):\n",
    "    d[i][0]=d[i][0]+d[i-1][0]\n",
    "    pd1.append(str(int(d[i][0])))\n",
    "\n",
    "pe =[]\n",
    "pe.append(str(int(e[0][0])))\n",
    "for i in range(1,22446):\n",
    "    e[i][0]=e[i][0]+e[i-1][0]\n",
    "    pe.append(str(int(e[i][0])))\n",
    "\n",
    "pf =[]\n",
    "pf.append(str(int(f[0][0])))\n",
    "for i in range(1,22446):\n",
    "    f[i][0]=f[i][0]+f[i-1][0]\n",
    "    pf.append(str(int(f[i][0])))\n",
    "\n",
    "pg =[]\n",
    "pg.append(str(int(g[0][0])))\n",
    "for i in range(1,22446):\n",
    "    g[i][0]=g[i][0]+g[i-1][0]\n",
    "    pg.append(str(int(g[i][0])))"
   ]
  },
  {
   "cell_type": "code",
   "execution_count": 60,
   "metadata": {},
   "outputs": [],
   "source": [
    "pred_df = pd.DataFrame({'ID': ids,'PA':pa,'PB':pb,'PC':pc,'PD':pd1,'PE':pe,'PF':pf,'PG':pg})"
   ]
  },
  {
   "cell_type": "code",
   "execution_count": 61,
   "metadata": {},
   "outputs": [
    {
     "data": {
      "text/html": [
       "<div>\n",
       "<style scoped>\n",
       "    .dataframe tbody tr th:only-of-type {\n",
       "        vertical-align: middle;\n",
       "    }\n",
       "\n",
       "    .dataframe tbody tr th {\n",
       "        vertical-align: top;\n",
       "    }\n",
       "\n",
       "    .dataframe thead th {\n",
       "        text-align: right;\n",
       "    }\n",
       "</style>\n",
       "<table border=\"1\" class=\"dataframe\">\n",
       "  <thead>\n",
       "    <tr style=\"text-align: right;\">\n",
       "      <th></th>\n",
       "      <th>ID</th>\n",
       "      <th>PA</th>\n",
       "      <th>PB</th>\n",
       "      <th>PC</th>\n",
       "      <th>PD</th>\n",
       "      <th>PE</th>\n",
       "      <th>PF</th>\n",
       "      <th>PG</th>\n",
       "    </tr>\n",
       "  </thead>\n",
       "  <tbody>\n",
       "    <tr>\n",
       "      <th>0</th>\n",
       "      <td>PR40001</td>\n",
       "      <td>276</td>\n",
       "      <td>199</td>\n",
       "      <td>90</td>\n",
       "      <td>66</td>\n",
       "      <td>40</td>\n",
       "      <td>26</td>\n",
       "      <td>22</td>\n",
       "    </tr>\n",
       "    <tr>\n",
       "      <th>1</th>\n",
       "      <td>PR40002</td>\n",
       "      <td>598</td>\n",
       "      <td>377</td>\n",
       "      <td>196</td>\n",
       "      <td>144</td>\n",
       "      <td>80</td>\n",
       "      <td>52</td>\n",
       "      <td>44</td>\n",
       "    </tr>\n",
       "    <tr>\n",
       "      <th>2</th>\n",
       "      <td>PR40003</td>\n",
       "      <td>934</td>\n",
       "      <td>599</td>\n",
       "      <td>293</td>\n",
       "      <td>217</td>\n",
       "      <td>125</td>\n",
       "      <td>81</td>\n",
       "      <td>68</td>\n",
       "    </tr>\n",
       "    <tr>\n",
       "      <th>3</th>\n",
       "      <td>PR40004</td>\n",
       "      <td>1323</td>\n",
       "      <td>817</td>\n",
       "      <td>405</td>\n",
       "      <td>305</td>\n",
       "      <td>169</td>\n",
       "      <td>111</td>\n",
       "      <td>93</td>\n",
       "    </tr>\n",
       "    <tr>\n",
       "      <th>4</th>\n",
       "      <td>PR40005</td>\n",
       "      <td>1696</td>\n",
       "      <td>997</td>\n",
       "      <td>523</td>\n",
       "      <td>394</td>\n",
       "      <td>216</td>\n",
       "      <td>140</td>\n",
       "      <td>116</td>\n",
       "    </tr>\n",
       "  </tbody>\n",
       "</table>\n",
       "</div>"
      ],
      "text/plain": [
       "        ID    PA   PB   PC   PD   PE   PF   PG\n",
       "0  PR40001   276  199   90   66   40   26   22\n",
       "1  PR40002   598  377  196  144   80   52   44\n",
       "2  PR40003   934  599  293  217  125   81   68\n",
       "3  PR40004  1323  817  405  305  169  111   93\n",
       "4  PR40005  1696  997  523  394  216  140  116"
      ]
     },
     "execution_count": 61,
     "metadata": {},
     "output_type": "execute_result"
    }
   ],
   "source": [
    "pred_df.head()"
   ]
  },
  {
   "cell_type": "code",
   "execution_count": 62,
   "metadata": {},
   "outputs": [],
   "source": [
    "pred_df.to_csv('DNNprediction.csv', columns=['ID','PA','PB','PC','PD','PE','PF','PG'], header=True, sep=',')"
   ]
  },
  {
   "cell_type": "markdown",
   "metadata": {},
   "source": [
    "# with kernel initializer: 75.83"
   ]
  },
  {
   "cell_type": "code",
   "execution_count": null,
   "metadata": {},
   "outputs": [],
   "source": []
  }
 ],
 "metadata": {
  "kernelspec": {
   "display_name": "Python 3",
   "language": "python",
   "name": "python3"
  },
  "language_info": {
   "codemirror_mode": {
    "name": "ipython",
    "version": 3
   },
   "file_extension": ".py",
   "mimetype": "text/x-python",
   "name": "python",
   "nbconvert_exporter": "python",
   "pygments_lexer": "ipython3",
   "version": "3.6.5"
  }
 },
 "nbformat": 4,
 "nbformat_minor": 2
}
