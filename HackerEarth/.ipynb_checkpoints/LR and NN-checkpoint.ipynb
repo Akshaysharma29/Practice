{
 "cells": [
  {
   "cell_type": "markdown",
   "metadata": {},
   "source": [
    "# On the plague trail: HackerEarth\n",
    "https://www.hackerearth.com/challenges/competitive/on-the-plague-trail-hackerearth-machine-learning-challenge/problems/"
   ]
  },
  {
   "cell_type": "code",
   "execution_count": 1,
   "metadata": {},
   "outputs": [],
   "source": [
    "import numpy as np\n",
    "import matplotlib.pyplot as plt\n",
    "%matplotlib inline\n",
    "import pandas as pd"
   ]
  },
  {
   "cell_type": "code",
   "execution_count": 2,
   "metadata": {},
   "outputs": [],
   "source": [
    "df = pd.read_csv('8f86dc50-7-dataset/train.csv')"
   ]
  },
  {
   "cell_type": "code",
   "execution_count": 3,
   "metadata": {},
   "outputs": [
    {
     "data": {
      "text/html": [
       "<div>\n",
       "<style scoped>\n",
       "    .dataframe tbody tr th:only-of-type {\n",
       "        vertical-align: middle;\n",
       "    }\n",
       "\n",
       "    .dataframe tbody tr th {\n",
       "        vertical-align: top;\n",
       "    }\n",
       "\n",
       "    .dataframe thead th {\n",
       "        text-align: right;\n",
       "    }\n",
       "</style>\n",
       "<table border=\"1\" class=\"dataframe\">\n",
       "  <thead>\n",
       "    <tr style=\"text-align: right;\">\n",
       "      <th></th>\n",
       "      <th>ID</th>\n",
       "      <th>DateTime</th>\n",
       "      <th>TempOut</th>\n",
       "      <th>HiTemp</th>\n",
       "      <th>LowTemp</th>\n",
       "      <th>OutHum</th>\n",
       "      <th>DewPt</th>\n",
       "      <th>WindSpeed</th>\n",
       "      <th>WindDir</th>\n",
       "      <th>WindRun</th>\n",
       "      <th>...</th>\n",
       "      <th>WindTx</th>\n",
       "      <th>ISSRecpt</th>\n",
       "      <th>ArcInt</th>\n",
       "      <th>PA</th>\n",
       "      <th>PB</th>\n",
       "      <th>PC</th>\n",
       "      <th>PD</th>\n",
       "      <th>PE</th>\n",
       "      <th>PF</th>\n",
       "      <th>PG</th>\n",
       "    </tr>\n",
       "  </thead>\n",
       "  <tbody>\n",
       "    <tr>\n",
       "      <th>0</th>\n",
       "      <td>PR00001</td>\n",
       "      <td>07-12-2040 0:15</td>\n",
       "      <td>53.5</td>\n",
       "      <td>53.6</td>\n",
       "      <td>53.5</td>\n",
       "      <td>85</td>\n",
       "      <td>49.1</td>\n",
       "      <td>2</td>\n",
       "      <td>SSE</td>\n",
       "      <td>0.5</td>\n",
       "      <td>...</td>\n",
       "      <td>1</td>\n",
       "      <td>100.0</td>\n",
       "      <td>15</td>\n",
       "      <td>1</td>\n",
       "      <td>1</td>\n",
       "      <td>1</td>\n",
       "      <td>1</td>\n",
       "      <td>1</td>\n",
       "      <td>1</td>\n",
       "      <td>1</td>\n",
       "    </tr>\n",
       "    <tr>\n",
       "      <th>1</th>\n",
       "      <td>PR00002</td>\n",
       "      <td>07-12-2040 0:30</td>\n",
       "      <td>53.5</td>\n",
       "      <td>53.5</td>\n",
       "      <td>53.4</td>\n",
       "      <td>85</td>\n",
       "      <td>49.1</td>\n",
       "      <td>2</td>\n",
       "      <td>SSE</td>\n",
       "      <td>0.5</td>\n",
       "      <td>...</td>\n",
       "      <td>1</td>\n",
       "      <td>100.0</td>\n",
       "      <td>15</td>\n",
       "      <td>1</td>\n",
       "      <td>1</td>\n",
       "      <td>1</td>\n",
       "      <td>1</td>\n",
       "      <td>1</td>\n",
       "      <td>1</td>\n",
       "      <td>1</td>\n",
       "    </tr>\n",
       "    <tr>\n",
       "      <th>2</th>\n",
       "      <td>PR00003</td>\n",
       "      <td>07-12-2040 0:45</td>\n",
       "      <td>53.3</td>\n",
       "      <td>53.5</td>\n",
       "      <td>53.2</td>\n",
       "      <td>85</td>\n",
       "      <td>48.9</td>\n",
       "      <td>2</td>\n",
       "      <td>SSE</td>\n",
       "      <td>0.5</td>\n",
       "      <td>...</td>\n",
       "      <td>1</td>\n",
       "      <td>100.0</td>\n",
       "      <td>15</td>\n",
       "      <td>1</td>\n",
       "      <td>1</td>\n",
       "      <td>1</td>\n",
       "      <td>1</td>\n",
       "      <td>1</td>\n",
       "      <td>1</td>\n",
       "      <td>1</td>\n",
       "    </tr>\n",
       "    <tr>\n",
       "      <th>3</th>\n",
       "      <td>PR00004</td>\n",
       "      <td>07-12-2040 1:00</td>\n",
       "      <td>53.1</td>\n",
       "      <td>53.3</td>\n",
       "      <td>53.0</td>\n",
       "      <td>86</td>\n",
       "      <td>49.0</td>\n",
       "      <td>2</td>\n",
       "      <td>S</td>\n",
       "      <td>0.5</td>\n",
       "      <td>...</td>\n",
       "      <td>1</td>\n",
       "      <td>100.0</td>\n",
       "      <td>15</td>\n",
       "      <td>1</td>\n",
       "      <td>1</td>\n",
       "      <td>1</td>\n",
       "      <td>1</td>\n",
       "      <td>1</td>\n",
       "      <td>1</td>\n",
       "      <td>1</td>\n",
       "    </tr>\n",
       "    <tr>\n",
       "      <th>4</th>\n",
       "      <td>PR00005</td>\n",
       "      <td>07-12-2040 1:15</td>\n",
       "      <td>52.9</td>\n",
       "      <td>53.1</td>\n",
       "      <td>52.9</td>\n",
       "      <td>86</td>\n",
       "      <td>48.8</td>\n",
       "      <td>2</td>\n",
       "      <td>S</td>\n",
       "      <td>0.5</td>\n",
       "      <td>...</td>\n",
       "      <td>1</td>\n",
       "      <td>100.0</td>\n",
       "      <td>15</td>\n",
       "      <td>1</td>\n",
       "      <td>1</td>\n",
       "      <td>1</td>\n",
       "      <td>1</td>\n",
       "      <td>1</td>\n",
       "      <td>1</td>\n",
       "      <td>1</td>\n",
       "    </tr>\n",
       "  </tbody>\n",
       "</table>\n",
       "<p>5 rows × 37 columns</p>\n",
       "</div>"
      ],
      "text/plain": [
       "        ID         DateTime  TempOut  HiTemp  LowTemp  OutHum  DewPt  \\\n",
       "0  PR00001  07-12-2040 0:15     53.5    53.6     53.5      85   49.1   \n",
       "1  PR00002  07-12-2040 0:30     53.5    53.5     53.4      85   49.1   \n",
       "2  PR00003  07-12-2040 0:45     53.3    53.5     53.2      85   48.9   \n",
       "3  PR00004  07-12-2040 1:00     53.1    53.3     53.0      86   49.0   \n",
       "4  PR00005  07-12-2040 1:15     52.9    53.1     52.9      86   48.8   \n",
       "\n",
       "   WindSpeed WindDir  WindRun ...  WindTx ISSRecpt  ArcInt  PA  PB  PC  PD  \\\n",
       "0          2     SSE      0.5 ...       1    100.0      15   1   1   1   1   \n",
       "1          2     SSE      0.5 ...       1    100.0      15   1   1   1   1   \n",
       "2          2     SSE      0.5 ...       1    100.0      15   1   1   1   1   \n",
       "3          2       S      0.5 ...       1    100.0      15   1   1   1   1   \n",
       "4          2       S      0.5 ...       1    100.0      15   1   1   1   1   \n",
       "\n",
       "   PE  PF  PG  \n",
       "0   1   1   1  \n",
       "1   1   1   1  \n",
       "2   1   1   1  \n",
       "3   1   1   1  \n",
       "4   1   1   1  \n",
       "\n",
       "[5 rows x 37 columns]"
      ]
     },
     "execution_count": 3,
     "metadata": {},
     "output_type": "execute_result"
    }
   ],
   "source": [
    "df.head()"
   ]
  },
  {
   "cell_type": "code",
   "execution_count": 4,
   "metadata": {},
   "outputs": [
    {
     "data": {
      "text/plain": [
       "(40000, 37)"
      ]
     },
     "execution_count": 4,
     "metadata": {},
     "output_type": "execute_result"
    }
   ],
   "source": [
    "df.values.shape"
   ]
  },
  {
   "cell_type": "code",
   "execution_count": 5,
   "metadata": {},
   "outputs": [],
   "source": [
    "ds= df.drop(['ID','DateTime'],axis=1)"
   ]
  },
  {
   "cell_type": "code",
   "execution_count": 6,
   "metadata": {},
   "outputs": [
    {
     "data": {
      "text/html": [
       "<div>\n",
       "<style scoped>\n",
       "    .dataframe tbody tr th:only-of-type {\n",
       "        vertical-align: middle;\n",
       "    }\n",
       "\n",
       "    .dataframe tbody tr th {\n",
       "        vertical-align: top;\n",
       "    }\n",
       "\n",
       "    .dataframe thead th {\n",
       "        text-align: right;\n",
       "    }\n",
       "</style>\n",
       "<table border=\"1\" class=\"dataframe\">\n",
       "  <thead>\n",
       "    <tr style=\"text-align: right;\">\n",
       "      <th></th>\n",
       "      <th>TempOut</th>\n",
       "      <th>HiTemp</th>\n",
       "      <th>LowTemp</th>\n",
       "      <th>OutHum</th>\n",
       "      <th>DewPt</th>\n",
       "      <th>WindSpeed</th>\n",
       "      <th>WindDir</th>\n",
       "      <th>WindRun</th>\n",
       "      <th>HiSpeed</th>\n",
       "      <th>HiDir</th>\n",
       "      <th>...</th>\n",
       "      <th>WindTx</th>\n",
       "      <th>ISSRecpt</th>\n",
       "      <th>ArcInt</th>\n",
       "      <th>PA</th>\n",
       "      <th>PB</th>\n",
       "      <th>PC</th>\n",
       "      <th>PD</th>\n",
       "      <th>PE</th>\n",
       "      <th>PF</th>\n",
       "      <th>PG</th>\n",
       "    </tr>\n",
       "  </thead>\n",
       "  <tbody>\n",
       "    <tr>\n",
       "      <th>0</th>\n",
       "      <td>53.5</td>\n",
       "      <td>53.6</td>\n",
       "      <td>53.5</td>\n",
       "      <td>85</td>\n",
       "      <td>49.1</td>\n",
       "      <td>2</td>\n",
       "      <td>SSE</td>\n",
       "      <td>0.5</td>\n",
       "      <td>9</td>\n",
       "      <td>SE</td>\n",
       "      <td>...</td>\n",
       "      <td>1</td>\n",
       "      <td>100.0</td>\n",
       "      <td>15</td>\n",
       "      <td>1</td>\n",
       "      <td>1</td>\n",
       "      <td>1</td>\n",
       "      <td>1</td>\n",
       "      <td>1</td>\n",
       "      <td>1</td>\n",
       "      <td>1</td>\n",
       "    </tr>\n",
       "    <tr>\n",
       "      <th>1</th>\n",
       "      <td>53.5</td>\n",
       "      <td>53.5</td>\n",
       "      <td>53.4</td>\n",
       "      <td>85</td>\n",
       "      <td>49.1</td>\n",
       "      <td>2</td>\n",
       "      <td>SSE</td>\n",
       "      <td>0.5</td>\n",
       "      <td>7</td>\n",
       "      <td>SSE</td>\n",
       "      <td>...</td>\n",
       "      <td>1</td>\n",
       "      <td>100.0</td>\n",
       "      <td>15</td>\n",
       "      <td>1</td>\n",
       "      <td>1</td>\n",
       "      <td>1</td>\n",
       "      <td>1</td>\n",
       "      <td>1</td>\n",
       "      <td>1</td>\n",
       "      <td>1</td>\n",
       "    </tr>\n",
       "    <tr>\n",
       "      <th>2</th>\n",
       "      <td>53.3</td>\n",
       "      <td>53.5</td>\n",
       "      <td>53.2</td>\n",
       "      <td>85</td>\n",
       "      <td>48.9</td>\n",
       "      <td>2</td>\n",
       "      <td>SSE</td>\n",
       "      <td>0.5</td>\n",
       "      <td>7</td>\n",
       "      <td>SSE</td>\n",
       "      <td>...</td>\n",
       "      <td>1</td>\n",
       "      <td>100.0</td>\n",
       "      <td>15</td>\n",
       "      <td>1</td>\n",
       "      <td>1</td>\n",
       "      <td>1</td>\n",
       "      <td>1</td>\n",
       "      <td>1</td>\n",
       "      <td>1</td>\n",
       "      <td>1</td>\n",
       "    </tr>\n",
       "    <tr>\n",
       "      <th>3</th>\n",
       "      <td>53.1</td>\n",
       "      <td>53.3</td>\n",
       "      <td>53.0</td>\n",
       "      <td>86</td>\n",
       "      <td>49.0</td>\n",
       "      <td>2</td>\n",
       "      <td>S</td>\n",
       "      <td>0.5</td>\n",
       "      <td>5</td>\n",
       "      <td>S</td>\n",
       "      <td>...</td>\n",
       "      <td>1</td>\n",
       "      <td>100.0</td>\n",
       "      <td>15</td>\n",
       "      <td>1</td>\n",
       "      <td>1</td>\n",
       "      <td>1</td>\n",
       "      <td>1</td>\n",
       "      <td>1</td>\n",
       "      <td>1</td>\n",
       "      <td>1</td>\n",
       "    </tr>\n",
       "    <tr>\n",
       "      <th>4</th>\n",
       "      <td>52.9</td>\n",
       "      <td>53.1</td>\n",
       "      <td>52.9</td>\n",
       "      <td>86</td>\n",
       "      <td>48.8</td>\n",
       "      <td>2</td>\n",
       "      <td>S</td>\n",
       "      <td>0.5</td>\n",
       "      <td>6</td>\n",
       "      <td>SW</td>\n",
       "      <td>...</td>\n",
       "      <td>1</td>\n",
       "      <td>100.0</td>\n",
       "      <td>15</td>\n",
       "      <td>1</td>\n",
       "      <td>1</td>\n",
       "      <td>1</td>\n",
       "      <td>1</td>\n",
       "      <td>1</td>\n",
       "      <td>1</td>\n",
       "      <td>1</td>\n",
       "    </tr>\n",
       "  </tbody>\n",
       "</table>\n",
       "<p>5 rows × 35 columns</p>\n",
       "</div>"
      ],
      "text/plain": [
       "   TempOut  HiTemp  LowTemp  OutHum  DewPt  WindSpeed WindDir  WindRun  \\\n",
       "0     53.5    53.6     53.5      85   49.1          2     SSE      0.5   \n",
       "1     53.5    53.5     53.4      85   49.1          2     SSE      0.5   \n",
       "2     53.3    53.5     53.2      85   48.9          2     SSE      0.5   \n",
       "3     53.1    53.3     53.0      86   49.0          2       S      0.5   \n",
       "4     52.9    53.1     52.9      86   48.8          2       S      0.5   \n",
       "\n",
       "   HiSpeed HiDir ...  WindTx  ISSRecpt  ArcInt  PA  PB  PC  PD  PE  PF  PG  \n",
       "0        9    SE ...       1     100.0      15   1   1   1   1   1   1   1  \n",
       "1        7   SSE ...       1     100.0      15   1   1   1   1   1   1   1  \n",
       "2        7   SSE ...       1     100.0      15   1   1   1   1   1   1   1  \n",
       "3        5     S ...       1     100.0      15   1   1   1   1   1   1   1  \n",
       "4        6    SW ...       1     100.0      15   1   1   1   1   1   1   1  \n",
       "\n",
       "[5 rows x 35 columns]"
      ]
     },
     "execution_count": 6,
     "metadata": {},
     "output_type": "execute_result"
    }
   ],
   "source": [
    "ds.head()"
   ]
  },
  {
   "cell_type": "code",
   "execution_count": 7,
   "metadata": {},
   "outputs": [
    {
     "data": {
      "text/plain": [
       "(40000, 35)"
      ]
     },
     "execution_count": 7,
     "metadata": {},
     "output_type": "execute_result"
    }
   ],
   "source": [
    "ds.dropna(axis=0).values.shape"
   ]
  },
  {
   "cell_type": "code",
   "execution_count": 8,
   "metadata": {},
   "outputs": [],
   "source": [
    "ds= ds.drop(['WindDir','HiDir'],axis=1)"
   ]
  },
  {
   "cell_type": "code",
   "execution_count": 9,
   "metadata": {},
   "outputs": [
    {
     "data": {
      "text/plain": [
       "(40000, 33)"
      ]
     },
     "execution_count": 9,
     "metadata": {},
     "output_type": "execute_result"
    }
   ],
   "source": [
    "ds.values.shape"
   ]
  },
  {
   "cell_type": "code",
   "execution_count": 10,
   "metadata": {},
   "outputs": [
    {
     "name": "stdout",
     "output_type": "stream",
     "text": [
      "Index(['TempOut', 'HiTemp', 'LowTemp', 'OutHum', 'DewPt', 'WindSpeed',\n",
      "       'WindRun', 'HiSpeed', 'WindChill', 'HeatIndex', 'THWIndex', 'Bar',\n",
      "       'Rain', 'RainRate', 'HeatDD', 'CoolDD', 'InTemp', 'InHum', 'InDew',\n",
      "       'InHeat', 'InEMC', 'InAirDensity', 'WindSamp', 'WindTx', 'ISSRecpt',\n",
      "       'ArcInt'],\n",
      "      dtype='object')\n",
      "--------------\n",
      "Index(['PA', 'PB', 'PC', 'PD', 'PE', 'PF', 'PG'], dtype='object')\n",
      "----------\n",
      "<class 'numpy.ndarray'>\n"
     ]
    }
   ],
   "source": [
    "print(ds.columns[:26])\n",
    "print('--------------')\n",
    "print(ds.columns[26:])\n",
    "print('----------')\n",
    "print(type(ds.values))"
   ]
  },
  {
   "cell_type": "code",
   "execution_count": 11,
   "metadata": {},
   "outputs": [
    {
     "data": {
      "text/plain": [
       "(40000, 7)"
      ]
     },
     "execution_count": 11,
     "metadata": {},
     "output_type": "execute_result"
    }
   ],
   "source": [
    "ds.values[:,26:].shape"
   ]
  },
  {
   "cell_type": "code",
   "execution_count": 12,
   "metadata": {},
   "outputs": [],
   "source": [
    "x= ds.values[:,:26]\n",
    "y= ds.values[:,26:]"
   ]
  },
  {
   "cell_type": "code",
   "execution_count": 13,
   "metadata": {},
   "outputs": [
    {
     "name": "stdout",
     "output_type": "stream",
     "text": [
      "(40000, 26) (40000, 7)\n"
     ]
    }
   ],
   "source": [
    "print(x.shape,y.shape)"
   ]
  },
  {
   "cell_type": "code",
   "execution_count": 14,
   "metadata": {},
   "outputs": [],
   "source": [
    "for i in range(1,40000):\n",
    "    y[i]=y[i]-y[i-1]"
   ]
  },
  {
   "cell_type": "code",
   "execution_count": 15,
   "metadata": {},
   "outputs": [
    {
     "name": "stdout",
     "output_type": "stream",
     "text": [
      "(40000, 7)\n",
      "[0. 0. 0. 0. 0. 0. 0.]\n"
     ]
    }
   ],
   "source": [
    "print(y.shape)\n",
    "print(y[1])"
   ]
  },
  {
   "cell_type": "code",
   "execution_count": 16,
   "metadata": {},
   "outputs": [],
   "source": [
    "ya=y[:,:1]\n",
    "yb=y[:,1:2]\n",
    "yc=y[:,2:3]\n",
    "yd=y[:,3:4]\n",
    "ye=y[:,4:5]\n",
    "yf=y[:,5:6]\n",
    "yg=y[:,6:7]"
   ]
  },
  {
   "cell_type": "code",
   "execution_count": 17,
   "metadata": {},
   "outputs": [
    {
     "name": "stdout",
     "output_type": "stream",
     "text": [
      "(40000, 1)\n",
      "(40000, 1)\n"
     ]
    }
   ],
   "source": [
    "print(ya.shape)\n",
    "print(yb.shape)"
   ]
  },
  {
   "cell_type": "code",
   "execution_count": 18,
   "metadata": {},
   "outputs": [
    {
     "name": "stdout",
     "output_type": "stream",
     "text": [
      "1502\n"
     ]
    }
   ],
   "source": [
    "print(len(np.unique(ya)))"
   ]
  },
  {
   "cell_type": "code",
   "execution_count": 19,
   "metadata": {},
   "outputs": [],
   "source": [
    "# from sklearn.ensemble import RandomForestClassifier\n",
    "# rfa = RandomForestClassifier()\n",
    "# rfa.fit(x,ya)"
   ]
  },
  {
   "cell_type": "code",
   "execution_count": 20,
   "metadata": {},
   "outputs": [],
   "source": [
    "from sklearn.linear_model import LinearRegression"
   ]
  },
  {
   "cell_type": "code",
   "execution_count": 21,
   "metadata": {},
   "outputs": [],
   "source": [
    "lra = LinearRegression().fit(x, ya)"
   ]
  },
  {
   "cell_type": "code",
   "execution_count": 22,
   "metadata": {},
   "outputs": [],
   "source": [
    "lrb = LinearRegression().fit(x, yb)"
   ]
  },
  {
   "cell_type": "code",
   "execution_count": 23,
   "metadata": {},
   "outputs": [],
   "source": [
    "lrc = LinearRegression().fit(x, yc)"
   ]
  },
  {
   "cell_type": "code",
   "execution_count": 24,
   "metadata": {},
   "outputs": [],
   "source": [
    "lrd = LinearRegression().fit(x, yd)"
   ]
  },
  {
   "cell_type": "code",
   "execution_count": 25,
   "metadata": {},
   "outputs": [],
   "source": [
    "lre = LinearRegression().fit(x, ye)"
   ]
  },
  {
   "cell_type": "code",
   "execution_count": 26,
   "metadata": {},
   "outputs": [],
   "source": [
    "lrf = LinearRegression().fit(x, yf)"
   ]
  },
  {
   "cell_type": "code",
   "execution_count": 27,
   "metadata": {},
   "outputs": [],
   "source": [
    "lrg = LinearRegression().fit(x, yg)"
   ]
  },
  {
   "cell_type": "code",
   "execution_count": 28,
   "metadata": {},
   "outputs": [],
   "source": [
    "dft = pd.read_csv('8f86dc50-7-dataset/test.csv')"
   ]
  },
  {
   "cell_type": "code",
   "execution_count": 29,
   "metadata": {},
   "outputs": [],
   "source": [
    "dst = dft.drop(['WindDir','HiDir','ID','DateTime'],axis=1)"
   ]
  },
  {
   "cell_type": "code",
   "execution_count": 30,
   "metadata": {},
   "outputs": [
    {
     "data": {
      "text/html": [
       "<div>\n",
       "<style scoped>\n",
       "    .dataframe tbody tr th:only-of-type {\n",
       "        vertical-align: middle;\n",
       "    }\n",
       "\n",
       "    .dataframe tbody tr th {\n",
       "        vertical-align: top;\n",
       "    }\n",
       "\n",
       "    .dataframe thead th {\n",
       "        text-align: right;\n",
       "    }\n",
       "</style>\n",
       "<table border=\"1\" class=\"dataframe\">\n",
       "  <thead>\n",
       "    <tr style=\"text-align: right;\">\n",
       "      <th></th>\n",
       "      <th>TempOut</th>\n",
       "      <th>HiTemp</th>\n",
       "      <th>LowTemp</th>\n",
       "      <th>OutHum</th>\n",
       "      <th>DewPt</th>\n",
       "      <th>WindSpeed</th>\n",
       "      <th>WindRun</th>\n",
       "      <th>HiSpeed</th>\n",
       "      <th>WindChill</th>\n",
       "      <th>HeatIndex</th>\n",
       "      <th>...</th>\n",
       "      <th>InTemp</th>\n",
       "      <th>InHum</th>\n",
       "      <th>InDew</th>\n",
       "      <th>InHeat</th>\n",
       "      <th>InEMC</th>\n",
       "      <th>InAirDensity</th>\n",
       "      <th>WindSamp</th>\n",
       "      <th>WindTx</th>\n",
       "      <th>ISSRecpt</th>\n",
       "      <th>ArcInt</th>\n",
       "    </tr>\n",
       "  </thead>\n",
       "  <tbody>\n",
       "    <tr>\n",
       "      <th>0</th>\n",
       "      <td>82.6</td>\n",
       "      <td>83.6</td>\n",
       "      <td>80.8</td>\n",
       "      <td>38</td>\n",
       "      <td>54.4</td>\n",
       "      <td>4</td>\n",
       "      <td>1.0</td>\n",
       "      <td>9</td>\n",
       "      <td>82.6</td>\n",
       "      <td>81.8</td>\n",
       "      <td>...</td>\n",
       "      <td>68.3</td>\n",
       "      <td>29</td>\n",
       "      <td>34.8</td>\n",
       "      <td>64.6</td>\n",
       "      <td>6.08</td>\n",
       "      <td>0.0748</td>\n",
       "      <td>351</td>\n",
       "      <td>1</td>\n",
       "      <td>100.0</td>\n",
       "      <td>15</td>\n",
       "    </tr>\n",
       "    <tr>\n",
       "      <th>1</th>\n",
       "      <td>82.6</td>\n",
       "      <td>83.2</td>\n",
       "      <td>82.1</td>\n",
       "      <td>36</td>\n",
       "      <td>52.9</td>\n",
       "      <td>4</td>\n",
       "      <td>1.0</td>\n",
       "      <td>11</td>\n",
       "      <td>82.6</td>\n",
       "      <td>81.5</td>\n",
       "      <td>...</td>\n",
       "      <td>69.3</td>\n",
       "      <td>58</td>\n",
       "      <td>53.9</td>\n",
       "      <td>68.5</td>\n",
       "      <td>10.75</td>\n",
       "      <td>0.0741</td>\n",
       "      <td>351</td>\n",
       "      <td>1</td>\n",
       "      <td>100.0</td>\n",
       "      <td>15</td>\n",
       "    </tr>\n",
       "    <tr>\n",
       "      <th>2</th>\n",
       "      <td>83.6</td>\n",
       "      <td>84.5</td>\n",
       "      <td>82.4</td>\n",
       "      <td>38</td>\n",
       "      <td>55.3</td>\n",
       "      <td>4</td>\n",
       "      <td>1.0</td>\n",
       "      <td>11</td>\n",
       "      <td>83.6</td>\n",
       "      <td>83.3</td>\n",
       "      <td>...</td>\n",
       "      <td>68.4</td>\n",
       "      <td>30</td>\n",
       "      <td>35.7</td>\n",
       "      <td>64.8</td>\n",
       "      <td>6.25</td>\n",
       "      <td>0.0747</td>\n",
       "      <td>351</td>\n",
       "      <td>1</td>\n",
       "      <td>100.0</td>\n",
       "      <td>15</td>\n",
       "    </tr>\n",
       "    <tr>\n",
       "      <th>3</th>\n",
       "      <td>85.1</td>\n",
       "      <td>85.5</td>\n",
       "      <td>83.4</td>\n",
       "      <td>37</td>\n",
       "      <td>55.9</td>\n",
       "      <td>4</td>\n",
       "      <td>1.0</td>\n",
       "      <td>11</td>\n",
       "      <td>85.1</td>\n",
       "      <td>84.7</td>\n",
       "      <td>...</td>\n",
       "      <td>69.9</td>\n",
       "      <td>56</td>\n",
       "      <td>53.5</td>\n",
       "      <td>68.7</td>\n",
       "      <td>10.35</td>\n",
       "      <td>0.0740</td>\n",
       "      <td>352</td>\n",
       "      <td>1</td>\n",
       "      <td>100.0</td>\n",
       "      <td>15</td>\n",
       "    </tr>\n",
       "    <tr>\n",
       "      <th>4</th>\n",
       "      <td>86.5</td>\n",
       "      <td>87.3</td>\n",
       "      <td>85.1</td>\n",
       "      <td>37</td>\n",
       "      <td>57.1</td>\n",
       "      <td>4</td>\n",
       "      <td>1.0</td>\n",
       "      <td>10</td>\n",
       "      <td>86.5</td>\n",
       "      <td>86.2</td>\n",
       "      <td>...</td>\n",
       "      <td>68.5</td>\n",
       "      <td>67</td>\n",
       "      <td>57.1</td>\n",
       "      <td>68.7</td>\n",
       "      <td>12.38</td>\n",
       "      <td>0.0740</td>\n",
       "      <td>351</td>\n",
       "      <td>1</td>\n",
       "      <td>100.0</td>\n",
       "      <td>15</td>\n",
       "    </tr>\n",
       "  </tbody>\n",
       "</table>\n",
       "<p>5 rows × 26 columns</p>\n",
       "</div>"
      ],
      "text/plain": [
       "   TempOut  HiTemp  LowTemp  OutHum  DewPt  WindSpeed  WindRun  HiSpeed  \\\n",
       "0     82.6    83.6     80.8      38   54.4          4      1.0        9   \n",
       "1     82.6    83.2     82.1      36   52.9          4      1.0       11   \n",
       "2     83.6    84.5     82.4      38   55.3          4      1.0       11   \n",
       "3     85.1    85.5     83.4      37   55.9          4      1.0       11   \n",
       "4     86.5    87.3     85.1      37   57.1          4      1.0       10   \n",
       "\n",
       "   WindChill  HeatIndex   ...    InTemp  InHum  InDew  InHeat  InEMC  \\\n",
       "0       82.6       81.8   ...      68.3     29   34.8    64.6   6.08   \n",
       "1       82.6       81.5   ...      69.3     58   53.9    68.5  10.75   \n",
       "2       83.6       83.3   ...      68.4     30   35.7    64.8   6.25   \n",
       "3       85.1       84.7   ...      69.9     56   53.5    68.7  10.35   \n",
       "4       86.5       86.2   ...      68.5     67   57.1    68.7  12.38   \n",
       "\n",
       "   InAirDensity  WindSamp  WindTx  ISSRecpt  ArcInt  \n",
       "0        0.0748       351       1     100.0      15  \n",
       "1        0.0741       351       1     100.0      15  \n",
       "2        0.0747       351       1     100.0      15  \n",
       "3        0.0740       352       1     100.0      15  \n",
       "4        0.0740       351       1     100.0      15  \n",
       "\n",
       "[5 rows x 26 columns]"
      ]
     },
     "execution_count": 30,
     "metadata": {},
     "output_type": "execute_result"
    }
   ],
   "source": [
    "dst.head()"
   ]
  },
  {
   "cell_type": "code",
   "execution_count": 31,
   "metadata": {},
   "outputs": [
    {
     "name": "stdout",
     "output_type": "stream",
     "text": [
      "(22446, 26)\n",
      "(22446,)\n"
     ]
    }
   ],
   "source": [
    "ids =dft['ID'].values\n",
    "xt = dst.values\n",
    "print(xt.shape)\n",
    "print(ids.shape)"
   ]
  },
  {
   "cell_type": "code",
   "execution_count": 32,
   "metadata": {},
   "outputs": [],
   "source": [
    "pa_pred = lra.predict(xt)"
   ]
  },
  {
   "cell_type": "code",
   "execution_count": 33,
   "metadata": {},
   "outputs": [
    {
     "data": {
      "text/plain": [
       "(22446, 1)"
      ]
     },
     "execution_count": 33,
     "metadata": {},
     "output_type": "execute_result"
    }
   ],
   "source": [
    "pa_pred.shape"
   ]
  },
  {
   "cell_type": "code",
   "execution_count": 34,
   "metadata": {},
   "outputs": [],
   "source": [
    "pb_pred = lrb.predict(xt)\n",
    "pc_pred = lrc.predict(xt)\n",
    "pd_pred = lrd.predict(xt)\n",
    "pe_pred = lre.predict(xt)\n",
    "pf_pred = lrf.predict(xt)\n",
    "pg_pred = lrg.predict(xt)"
   ]
  },
  {
   "cell_type": "code",
   "execution_count": 35,
   "metadata": {},
   "outputs": [
    {
     "name": "stdout",
     "output_type": "stream",
     "text": [
      "22446\n"
     ]
    }
   ],
   "source": [
    "pa_pred= pa_pred.tolist()\n",
    "print(len(pa_pred))"
   ]
  },
  {
   "cell_type": "code",
   "execution_count": 36,
   "metadata": {},
   "outputs": [],
   "source": [
    "pb_pred= pb_pred.tolist()\n",
    "pc_pred= pc_pred.tolist()\n",
    "pd_pred= pd_pred.tolist()\n",
    "pe_pred= pe_pred.tolist()\n",
    "pf_pred= pf_pred.tolist()\n",
    "pg_pred= pg_pred.tolist()"
   ]
  },
  {
   "cell_type": "code",
   "execution_count": 37,
   "metadata": {},
   "outputs": [],
   "source": [
    "# pred_df = pd.DataFrame({'ID': ids,'PA':pa_pred,'PB':pb_pred,'PC':pc_pred,'PD':pd_pred,'PE':pe_pred,'PF':pf_pred,'PG':pg_pred})"
   ]
  },
  {
   "cell_type": "code",
   "execution_count": 38,
   "metadata": {},
   "outputs": [],
   "source": [
    "# pred_df.head()"
   ]
  },
  {
   "cell_type": "code",
   "execution_count": 39,
   "metadata": {},
   "outputs": [],
   "source": [
    "# pred_df.to_csv('prediction.csv', columns=['ID','PA','PB','PC','PD','PE','PF','PG'], header=True, sep=',')"
   ]
  },
  {
   "cell_type": "code",
   "execution_count": 40,
   "metadata": {},
   "outputs": [
    {
     "data": {
      "text/plain": [
       "293"
      ]
     },
     "execution_count": 40,
     "metadata": {},
     "output_type": "execute_result"
    }
   ],
   "source": [
    "int(pa_pred[0][0])"
   ]
  },
  {
   "cell_type": "code",
   "execution_count": 41,
   "metadata": {},
   "outputs": [],
   "source": [
    "pa =[]\n",
    "pa.append(str(int(pa_pred[0][0])))\n",
    "for i in range(1,22446):\n",
    "    pa_pred[i][0]=pa_pred[i][0]+pa_pred[i-1][0]\n",
    "    pa.append(str(int(pa_pred[i][0])))"
   ]
  },
  {
   "cell_type": "code",
   "execution_count": 42,
   "metadata": {},
   "outputs": [
    {
     "data": {
      "text/plain": [
       "'293'"
      ]
     },
     "execution_count": 42,
     "metadata": {},
     "output_type": "execute_result"
    }
   ],
   "source": [
    "pa[0]"
   ]
  },
  {
   "cell_type": "code",
   "execution_count": 43,
   "metadata": {},
   "outputs": [],
   "source": [
    "pb =[]\n",
    "pb.append(str(int(pb_pred[0][0])))\n",
    "for i in range(1,22446):\n",
    "    pb_pred[i][0]=pb_pred[i][0]+pb_pred[i-1][0]\n",
    "    pb.append(str(int(pb_pred[i][0])))\n",
    "    \n",
    "pc =[]\n",
    "pc.append(str(int(pc_pred[0][0])))\n",
    "for i in range(1,22446):\n",
    "    pc_pred[i][0]=pc_pred[i][0]+pc_pred[i-1][0]\n",
    "    pc.append(str(int(pc_pred[i][0])))\n",
    "\n",
    "pd1 =[]\n",
    "pd1.append(str(int(pd_pred[0][0])))\n",
    "for i in range(1,22446):\n",
    "    pd_pred[i][0]=pd_pred[i][0]+pd_pred[i-1][0]\n",
    "    pd1.append(str(int(pd_pred[i][0])))\n",
    "\n",
    "pe =[]\n",
    "pe.append(str(int(pe_pred[0][0])))\n",
    "for i in range(1,22446):\n",
    "    pe_pred[i][0]=pe_pred[i][0]+pe_pred[i-1][0]\n",
    "    pe.append(str(int(pe_pred[i][0])))\n",
    "\n",
    "pf =[]\n",
    "pf.append(str(int(pf_pred[0][0])))\n",
    "for i in range(1,22446):\n",
    "    pf_pred[i][0]=pf_pred[i][0]+pf_pred[i-1][0]\n",
    "    pf.append(str(int(pf_pred[i][0])))\n",
    "\n",
    "pg =[]\n",
    "pg.append(str(int(pg_pred[0][0])))\n",
    "for i in range(1,22446):\n",
    "    pg_pred[i][0]=pg_pred[i][0]+pg_pred[i-1][0]\n",
    "    pg.append(str(int(pg_pred[i][0])))"
   ]
  },
  {
   "cell_type": "code",
   "execution_count": 44,
   "metadata": {},
   "outputs": [
    {
     "data": {
      "text/plain": [
       "array(['293', '628', '951', ..., '4117847', '4118041', '4118158'],\n",
       "      dtype='<U7')"
      ]
     },
     "execution_count": 44,
     "metadata": {},
     "output_type": "execute_result"
    }
   ],
   "source": [
    "type(pa)\n",
    "np.array(pa)"
   ]
  },
  {
   "cell_type": "code",
   "execution_count": 45,
   "metadata": {},
   "outputs": [],
   "source": [
    "pred_df = pd.DataFrame({'ID': ids,'PA':pa,'PB':pb,'PC':pc,'PD':pd1,'PE':pe,'PF':pf,'PG':pg})"
   ]
  },
  {
   "cell_type": "code",
   "execution_count": 46,
   "metadata": {},
   "outputs": [
    {
     "data": {
      "text/html": [
       "<div>\n",
       "<style scoped>\n",
       "    .dataframe tbody tr th:only-of-type {\n",
       "        vertical-align: middle;\n",
       "    }\n",
       "\n",
       "    .dataframe tbody tr th {\n",
       "        vertical-align: top;\n",
       "    }\n",
       "\n",
       "    .dataframe thead th {\n",
       "        text-align: right;\n",
       "    }\n",
       "</style>\n",
       "<table border=\"1\" class=\"dataframe\">\n",
       "  <thead>\n",
       "    <tr style=\"text-align: right;\">\n",
       "      <th></th>\n",
       "      <th>ID</th>\n",
       "      <th>PA</th>\n",
       "      <th>PB</th>\n",
       "      <th>PC</th>\n",
       "      <th>PD</th>\n",
       "      <th>PE</th>\n",
       "      <th>PF</th>\n",
       "      <th>PG</th>\n",
       "    </tr>\n",
       "  </thead>\n",
       "  <tbody>\n",
       "    <tr>\n",
       "      <th>0</th>\n",
       "      <td>PR40001</td>\n",
       "      <td>293</td>\n",
       "      <td>151</td>\n",
       "      <td>87</td>\n",
       "      <td>55</td>\n",
       "      <td>37</td>\n",
       "      <td>26</td>\n",
       "      <td>19</td>\n",
       "    </tr>\n",
       "    <tr>\n",
       "      <th>1</th>\n",
       "      <td>PR40002</td>\n",
       "      <td>628</td>\n",
       "      <td>324</td>\n",
       "      <td>187</td>\n",
       "      <td>118</td>\n",
       "      <td>80</td>\n",
       "      <td>57</td>\n",
       "      <td>42</td>\n",
       "    </tr>\n",
       "    <tr>\n",
       "      <th>2</th>\n",
       "      <td>PR40003</td>\n",
       "      <td>951</td>\n",
       "      <td>491</td>\n",
       "      <td>283</td>\n",
       "      <td>179</td>\n",
       "      <td>121</td>\n",
       "      <td>86</td>\n",
       "      <td>64</td>\n",
       "    </tr>\n",
       "    <tr>\n",
       "      <th>3</th>\n",
       "      <td>PR40004</td>\n",
       "      <td>1312</td>\n",
       "      <td>677</td>\n",
       "      <td>391</td>\n",
       "      <td>246</td>\n",
       "      <td>166</td>\n",
       "      <td>118</td>\n",
       "      <td>88</td>\n",
       "    </tr>\n",
       "    <tr>\n",
       "      <th>4</th>\n",
       "      <td>PR40005</td>\n",
       "      <td>1727</td>\n",
       "      <td>888</td>\n",
       "      <td>511</td>\n",
       "      <td>321</td>\n",
       "      <td>216</td>\n",
       "      <td>154</td>\n",
       "      <td>114</td>\n",
       "    </tr>\n",
       "  </tbody>\n",
       "</table>\n",
       "</div>"
      ],
      "text/plain": [
       "        ID    PA   PB   PC   PD   PE   PF   PG\n",
       "0  PR40001   293  151   87   55   37   26   19\n",
       "1  PR40002   628  324  187  118   80   57   42\n",
       "2  PR40003   951  491  283  179  121   86   64\n",
       "3  PR40004  1312  677  391  246  166  118   88\n",
       "4  PR40005  1727  888  511  321  216  154  114"
      ]
     },
     "execution_count": 46,
     "metadata": {},
     "output_type": "execute_result"
    }
   ],
   "source": [
    "pred_df.head()"
   ]
  },
  {
   "cell_type": "code",
   "execution_count": 47,
   "metadata": {},
   "outputs": [],
   "source": [
    "pred_df.to_csv('prediction.csv', columns=['ID','PA','PB','PC','PD','PE','PF','PG'], header=True, sep=',')"
   ]
  },
  {
   "cell_type": "markdown",
   "metadata": {},
   "source": [
    "# Neural Network"
   ]
  },
  {
   "cell_type": "code",
   "execution_count": 48,
   "metadata": {},
   "outputs": [
    {
     "name": "stderr",
     "output_type": "stream",
     "text": [
      "Using TensorFlow backend.\n"
     ]
    }
   ],
   "source": [
    "import numpy\n",
    "import pandas\n",
    "from keras.models import Sequential\n",
    "from keras.layers import Dense\n",
    "from keras.wrappers.scikit_learn import KerasRegressor\n",
    "from sklearn.model_selection import cross_val_score\n",
    "from sklearn.model_selection import KFold\n",
    "from sklearn.preprocessing import StandardScaler\n",
    "from sklearn.pipeline import Pipeline"
   ]
  },
  {
   "cell_type": "code",
   "execution_count": 49,
   "metadata": {},
   "outputs": [
    {
     "data": {
      "text/plain": [
       "<keras.callbacks.History at 0x7fe0e383dda0>"
      ]
     },
     "execution_count": 49,
     "metadata": {},
     "output_type": "execute_result"
    }
   ],
   "source": [
    "modela = Sequential()\n",
    "modela.add(Dense(26, input_dim=26, kernel_initializer='normal', activation='relu'))\n",
    "modela.add(Dense(6, kernel_initializer='normal', activation='relu'))\n",
    "modela.add(Dense(1, kernel_initializer='normal'))\n",
    "# Compile model\n",
    "modela.compile(loss='mean_squared_error', optimizer='adam')\n",
    "#To remove progress bar use verbose=0\n",
    "modela.fit( x, ya, shuffle=True, batch_size=128, epochs=50 ,verbose=0)"
   ]
  },
  {
   "cell_type": "code",
   "execution_count": 50,
   "metadata": {},
   "outputs": [
    {
     "data": {
      "text/plain": [
       "<keras.callbacks.History at 0x7fe0e03f19e8>"
      ]
     },
     "execution_count": 50,
     "metadata": {},
     "output_type": "execute_result"
    }
   ],
   "source": [
    "modelb = Sequential()\n",
    "modelb.add(Dense(26, input_dim=26, kernel_initializer='normal', activation='relu'))\n",
    "modelb.add(Dense(6, kernel_initializer='normal', activation='relu'))\n",
    "modelb.add(Dense(1, kernel_initializer='normal'))\n",
    "# Compile model\n",
    "modelb.compile(loss='mean_squared_error', optimizer='adam')\n",
    "modelb.fit( x, yb, shuffle=True, batch_size=128, epochs=50, verbose=0 )"
   ]
  },
  {
   "cell_type": "code",
   "execution_count": 51,
   "metadata": {},
   "outputs": [
    {
     "data": {
      "text/plain": [
       "<keras.callbacks.History at 0x7fe0e0021c50>"
      ]
     },
     "execution_count": 51,
     "metadata": {},
     "output_type": "execute_result"
    }
   ],
   "source": [
    "modelc = Sequential()\n",
    "modelc.add(Dense(26, input_dim=26, kernel_initializer='normal', activation='relu'))\n",
    "modelc.add(Dense(6, kernel_initializer='normal', activation='relu'))\n",
    "modelc.add(Dense(1, kernel_initializer='normal'))\n",
    "# Compile model\n",
    "modelc.compile(loss='mean_squared_error', optimizer='adam')\n",
    "modelc.fit( x, yc, shuffle=True, batch_size=128, epochs=50, verbose=0 )"
   ]
  },
  {
   "cell_type": "code",
   "execution_count": 52,
   "metadata": {},
   "outputs": [
    {
     "data": {
      "text/plain": [
       "<keras.callbacks.History at 0x7fe0dac00438>"
      ]
     },
     "execution_count": 52,
     "metadata": {},
     "output_type": "execute_result"
    }
   ],
   "source": [
    "modeld = Sequential()\n",
    "modeld.add(Dense(26, input_dim=26, kernel_initializer='normal', activation='relu'))\n",
    "modeld.add(Dense(6, kernel_initializer='normal', activation='relu'))\n",
    "modeld.add(Dense(1, kernel_initializer='normal'))\n",
    "# Compile model\n",
    "modeld.compile(loss='mean_squared_error', optimizer='adam')\n",
    "modeld.fit( x, yd, shuffle=True, batch_size=128, epochs=50, verbose=0 )"
   ]
  },
  {
   "cell_type": "code",
   "execution_count": 53,
   "metadata": {},
   "outputs": [
    {
     "data": {
      "text/plain": [
       "<keras.callbacks.History at 0x7fe0da86fcf8>"
      ]
     },
     "execution_count": 53,
     "metadata": {},
     "output_type": "execute_result"
    }
   ],
   "source": [
    "modele = Sequential()\n",
    "modele.add(Dense(26, input_dim=26, kernel_initializer='normal', activation='relu'))\n",
    "modele.add(Dense(6, kernel_initializer='normal', activation='relu'))\n",
    "modele.add(Dense(1, kernel_initializer='normal'))\n",
    "# Compile model\n",
    "modele.compile(loss='mean_squared_error', optimizer='adam')\n",
    "modele.fit( x, ye, shuffle=True, batch_size=128, epochs=50,verbose=0)"
   ]
  },
  {
   "cell_type": "code",
   "execution_count": 54,
   "metadata": {},
   "outputs": [
    {
     "data": {
      "text/plain": [
       "<keras.callbacks.History at 0x7fe0da4604a8>"
      ]
     },
     "execution_count": 54,
     "metadata": {},
     "output_type": "execute_result"
    }
   ],
   "source": [
    "modelf = Sequential()\n",
    "modelf.add(Dense(26, input_dim=26, kernel_initializer='normal', activation='relu'))\n",
    "modelf.add(Dense(6, kernel_initializer='normal', activation='relu'))\n",
    "modelf.add(Dense(1, kernel_initializer='normal'))\n",
    "# Compile model\n",
    "modelf.compile(loss='mean_squared_error', optimizer='adam')\n",
    "modelf.fit( x, yf, shuffle=True, batch_size=128, epochs=50,verbose=0 )"
   ]
  },
  {
   "cell_type": "code",
   "execution_count": 55,
   "metadata": {},
   "outputs": [
    {
     "data": {
      "text/plain": [
       "<keras.callbacks.History at 0x7fe0da0a0a58>"
      ]
     },
     "execution_count": 55,
     "metadata": {},
     "output_type": "execute_result"
    }
   ],
   "source": [
    "modelg = Sequential()\n",
    "modelg.add(Dense(26, input_dim=26, kernel_initializer='normal', activation='relu'))\n",
    "modelg.add(Dense(6, kernel_initializer='normal', activation='relu'))\n",
    "modelg.add(Dense(1, kernel_initializer='normal'))\n",
    "# Compile model\n",
    "modelg.compile(loss='mean_squared_error', optimizer='adam')\n",
    "modelg.fit( x, yg, shuffle=True, batch_size=128, epochs=50,verbose=0 )"
   ]
  },
  {
   "cell_type": "code",
   "execution_count": 56,
   "metadata": {},
   "outputs": [],
   "source": [
    "a=modela.predict(xt)\n",
    "b=modelb.predict(xt)\n",
    "c=modelc.predict(xt)\n",
    "d=modeld.predict(xt)\n",
    "e=modele.predict(xt)\n",
    "f=modelf.predict(xt)\n",
    "g=modelg.predict(xt)"
   ]
  },
  {
   "cell_type": "code",
   "execution_count": 57,
   "metadata": {},
   "outputs": [
    {
     "name": "stdout",
     "output_type": "stream",
     "text": [
      "<class 'numpy.ndarray'>\n",
      "(22446, 1)\n",
      "15.380114\n"
     ]
    }
   ],
   "source": [
    "print(type(a[0]))\n",
    "print(a.shape)\n",
    "print(a[0][0])"
   ]
  },
  {
   "cell_type": "code",
   "execution_count": 58,
   "metadata": {},
   "outputs": [],
   "source": [
    "pa =[]\n",
    "pa.append(str(int(a[0][0])))\n",
    "for i in range(1,22446):\n",
    "    a[i][0]=a[i][0]+a[i-1][0]\n",
    "    pa.append(str(int(a[i][0])))"
   ]
  },
  {
   "cell_type": "code",
   "execution_count": 59,
   "metadata": {},
   "outputs": [
    {
     "name": "stdout",
     "output_type": "stream",
     "text": [
      "22446\n"
     ]
    }
   ],
   "source": [
    "print(len(pa))"
   ]
  },
  {
   "cell_type": "code",
   "execution_count": 60,
   "metadata": {},
   "outputs": [],
   "source": [
    "pb =[]\n",
    "pb.append(str(int(b[0][0])))\n",
    "for i in range(1,22446):\n",
    "    b[i][0]=b[i][0]+b[i-1][0]\n",
    "    pb.append(str(int(b[i][0])))\n",
    "    \n",
    "pc =[]\n",
    "pc.append(str(int(c[0][0])))\n",
    "for i in range(1,22446):\n",
    "    c[i][0]=c[i][0]+c[i-1][0]\n",
    "    pc.append(str(int(c[i][0])))\n",
    "\n",
    "pd1 =[]\n",
    "pd1.append(str(int(d[0][0])))\n",
    "for i in range(1,22446):\n",
    "    d[i][0]=d[i][0]+d[i-1][0]\n",
    "    pd1.append(str(int(d[i][0])))\n",
    "\n",
    "pe =[]\n",
    "pe.append(str(int(e[0][0])))\n",
    "for i in range(1,22446):\n",
    "    e[i][0]=e[i][0]+e[i-1][0]\n",
    "    pe.append(str(int(e[i][0])))\n",
    "\n",
    "pf =[]\n",
    "pf.append(str(int(f[0][0])))\n",
    "for i in range(1,22446):\n",
    "    f[i][0]=f[i][0]+f[i-1][0]\n",
    "    pf.append(str(int(f[i][0])))\n",
    "\n",
    "pg =[]\n",
    "pg.append(str(int(g[0][0])))\n",
    "for i in range(1,22446):\n",
    "    g[i][0]=g[i][0]+g[i-1][0]\n",
    "    pg.append(str(int(g[i][0])))"
   ]
  },
  {
   "cell_type": "code",
   "execution_count": 61,
   "metadata": {},
   "outputs": [],
   "source": [
    "pred_df = pd.DataFrame({'ID': ids,'PA':pa,'PB':pb,'PC':pc,'PD':pd1,'PE':pe,'PF':pf,'PG':pg})"
   ]
  },
  {
   "cell_type": "code",
   "execution_count": 62,
   "metadata": {},
   "outputs": [
    {
     "data": {
      "text/html": [
       "<div>\n",
       "<style scoped>\n",
       "    .dataframe tbody tr th:only-of-type {\n",
       "        vertical-align: middle;\n",
       "    }\n",
       "\n",
       "    .dataframe tbody tr th {\n",
       "        vertical-align: top;\n",
       "    }\n",
       "\n",
       "    .dataframe thead th {\n",
       "        text-align: right;\n",
       "    }\n",
       "</style>\n",
       "<table border=\"1\" class=\"dataframe\">\n",
       "  <thead>\n",
       "    <tr style=\"text-align: right;\">\n",
       "      <th></th>\n",
       "      <th>ID</th>\n",
       "      <th>PA</th>\n",
       "      <th>PB</th>\n",
       "      <th>PC</th>\n",
       "      <th>PD</th>\n",
       "      <th>PE</th>\n",
       "      <th>PF</th>\n",
       "      <th>PG</th>\n",
       "    </tr>\n",
       "  </thead>\n",
       "  <tbody>\n",
       "    <tr>\n",
       "      <th>0</th>\n",
       "      <td>PR40001</td>\n",
       "      <td>15</td>\n",
       "      <td>145</td>\n",
       "      <td>78</td>\n",
       "      <td>53</td>\n",
       "      <td>35</td>\n",
       "      <td>21</td>\n",
       "      <td>19</td>\n",
       "    </tr>\n",
       "    <tr>\n",
       "      <th>1</th>\n",
       "      <td>PR40002</td>\n",
       "      <td>30</td>\n",
       "      <td>305</td>\n",
       "      <td>161</td>\n",
       "      <td>110</td>\n",
       "      <td>73</td>\n",
       "      <td>45</td>\n",
       "      <td>40</td>\n",
       "    </tr>\n",
       "    <tr>\n",
       "      <th>2</th>\n",
       "      <td>PR40003</td>\n",
       "      <td>46</td>\n",
       "      <td>470</td>\n",
       "      <td>249</td>\n",
       "      <td>171</td>\n",
       "      <td>113</td>\n",
       "      <td>70</td>\n",
       "      <td>62</td>\n",
       "    </tr>\n",
       "    <tr>\n",
       "      <th>3</th>\n",
       "      <td>PR40004</td>\n",
       "      <td>61</td>\n",
       "      <td>649</td>\n",
       "      <td>341</td>\n",
       "      <td>235</td>\n",
       "      <td>154</td>\n",
       "      <td>95</td>\n",
       "      <td>84</td>\n",
       "    </tr>\n",
       "    <tr>\n",
       "      <th>4</th>\n",
       "      <td>PR40005</td>\n",
       "      <td>76</td>\n",
       "      <td>830</td>\n",
       "      <td>432</td>\n",
       "      <td>299</td>\n",
       "      <td>195</td>\n",
       "      <td>120</td>\n",
       "      <td>106</td>\n",
       "    </tr>\n",
       "  </tbody>\n",
       "</table>\n",
       "</div>"
      ],
      "text/plain": [
       "        ID  PA   PB   PC   PD   PE   PF   PG\n",
       "0  PR40001  15  145   78   53   35   21   19\n",
       "1  PR40002  30  305  161  110   73   45   40\n",
       "2  PR40003  46  470  249  171  113   70   62\n",
       "3  PR40004  61  649  341  235  154   95   84\n",
       "4  PR40005  76  830  432  299  195  120  106"
      ]
     },
     "execution_count": 62,
     "metadata": {},
     "output_type": "execute_result"
    }
   ],
   "source": [
    "pred_df.head()"
   ]
  },
  {
   "cell_type": "code",
   "execution_count": 63,
   "metadata": {},
   "outputs": [],
   "source": [
    "pred_df.to_csv('NNprediction.csv', columns=['ID','PA','PB','PC','PD','PE','PF','PG'], header=True, sep=',')"
   ]
  },
  {
   "cell_type": "markdown",
   "metadata": {},
   "source": [
    "# Linear Regression : 74.96\n",
    "# Neural Network with 3 epochs : 76.95\n",
    "# Neural Network with 30-35 epochs : 78.07\n",
    "# Neural Network with 50 epochs : 78.027\n",
    "# Neural Network with 100 epochs : 76.70"
   ]
  },
  {
   "cell_type": "code",
   "execution_count": null,
   "metadata": {},
   "outputs": [],
   "source": []
  }
 ],
 "metadata": {
  "kernelspec": {
   "display_name": "Python 3",
   "language": "python",
   "name": "python3"
  },
  "language_info": {
   "codemirror_mode": {
    "name": "ipython",
    "version": 3
   },
   "file_extension": ".py",
   "mimetype": "text/x-python",
   "name": "python",
   "nbconvert_exporter": "python",
   "pygments_lexer": "ipython3",
   "version": "3.6.5"
  }
 },
 "nbformat": 4,
 "nbformat_minor": 2
}
