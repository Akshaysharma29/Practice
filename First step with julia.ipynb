{
 "cells": [
  {
   "cell_type": "code",
   "execution_count": 1,
   "metadata": {},
   "outputs": [],
   "source": [
    "# Link->https://www.kaggle.com/c/street-view-getting-started-with-julia/data"
   ]
  },
  {
   "cell_type": "code",
   "execution_count": 2,
   "metadata": {},
   "outputs": [
    {
     "name": "stderr",
     "output_type": "stream",
     "text": [
      "Using TensorFlow backend.\n"
     ]
    }
   ],
   "source": [
    "import numpy as np\n",
    "import matplotlib.pyplot as plt\n",
    "%matplotlib inline\n",
    "from PIL import Image\n",
    "import cv2\n",
    "import pandas as pd\n",
    "import os\n",
    "\n",
    "import keras\n",
    "from keras.utils import np_utils\n",
    "from keras.layers import Dense, Activation\n",
    "from keras.models import Sequential\n",
    "\n",
    "import csv"
   ]
  },
  {
   "cell_type": "code",
   "execution_count": 3,
   "metadata": {},
   "outputs": [],
   "source": [
    "img_path ='/home/akshay/Downloads/Kaggle data set/First step with julia/trainResized/1.Bmp' "
   ]
  },
  {
   "cell_type": "code",
   "execution_count": 4,
   "metadata": {},
   "outputs": [
    {
     "data": {
      "image/png": "[encoded data removed]",
      "text/plain": [
       "<matplotlib.figure.Figure at 0x7f0c9b3ee650>"
      ]
     },
     "metadata": {},
     "output_type": "display_data"
    }
   ],
   "source": [
    "im = cv2.imread(img_path)\n",
    "img1= cv2.cvtColor(im,cv2.COLOR_BGR2RGB)\n",
    "img = cv2.cvtColor(im,cv2.COLOR_BGR2GRAY)\n",
    "#why we use cmap as we have already convert it to Gray above?\n",
    "plt.imshow(img)\n",
    "plt.show()"
   ]
  },
  {
   "cell_type": "code",
   "execution_count": 5,
   "metadata": {},
   "outputs": [
    {
     "name": "stdout",
     "output_type": "stream",
     "text": [
      "<type 'numpy.ndarray'>\n"
     ]
    }
   ],
   "source": [
    "print type(img)"
   ]
  },
  {
   "cell_type": "code",
   "execution_count": 6,
   "metadata": {},
   "outputs": [
    {
     "name": "stdout",
     "output_type": "stream",
     "text": [
      "(20, 20)\n"
     ]
    }
   ],
   "source": [
    "print img.shape"
   ]
  },
  {
   "cell_type": "code",
   "execution_count": 7,
   "metadata": {},
   "outputs": [
    {
     "name": "stdout",
     "output_type": "stream",
     "text": [
      "(400,)\n",
      "<type 'numpy.ndarray'>\n"
     ]
    }
   ],
   "source": [
    "img = np.asarray(img).reshape(-1)\n",
    "print img.shape\n",
    "print type(img)"
   ]
  },
  {
   "cell_type": "code",
   "execution_count": 8,
   "metadata": {},
   "outputs": [
    {
     "name": "stdout",
     "output_type": "stream",
     "text": [
      "<type 'numpy.ndarray'>\n"
     ]
    },
    {
     "data": {
      "image/png": "[encoded data removed]",
      "text/plain": [
       "<matplotlib.figure.Figure at 0x7f0ce43a3a90>"
      ]
     },
     "metadata": {},
     "output_type": "display_data"
    }
   ],
   "source": [
    "img = img.reshape((20,20))\n",
    "print type(img)\n",
    "plt.imshow(img)\n",
    "plt.show()"
   ]
  },
  {
   "cell_type": "code",
   "execution_count": 9,
   "metadata": {},
   "outputs": [],
   "source": [
    "data = pd.read_csv('/home/akshay/Downloads/Kaggle data set/First step with julia/trainLabels.csv')"
   ]
  },
  {
   "cell_type": "code",
   "execution_count": 10,
   "metadata": {},
   "outputs": [
    {
     "name": "stdout",
     "output_type": "stream",
     "text": [
      "(6283, 2)\n",
      "<class 'pandas.core.frame.DataFrame'>\n"
     ]
    },
    {
     "data": {
      "text/html": [
       "<div>\n",
       "<style scoped>\n",
       "    .dataframe tbody tr th:only-of-type {\n",
       "        vertical-align: middle;\n",
       "    }\n",
       "\n",
       "    .dataframe tbody tr th {\n",
       "        vertical-align: top;\n",
       "    }\n",
       "\n",
       "    .dataframe thead th {\n",
       "        text-align: right;\n",
       "    }\n",
       "</style>\n",
       "<table border=\"1\" class=\"dataframe\">\n",
       "  <thead>\n",
       "    <tr style=\"text-align: right;\">\n",
       "      <th></th>\n",
       "      <th>ID</th>\n",
       "      <th>Class</th>\n",
       "    </tr>\n",
       "  </thead>\n",
       "  <tbody>\n",
       "    <tr>\n",
       "      <th>0</th>\n",
       "      <td>1</td>\n",
       "      <td>n</td>\n",
       "    </tr>\n",
       "    <tr>\n",
       "      <th>1</th>\n",
       "      <td>2</td>\n",
       "      <td>8</td>\n",
       "    </tr>\n",
       "    <tr>\n",
       "      <th>2</th>\n",
       "      <td>3</td>\n",
       "      <td>T</td>\n",
       "    </tr>\n",
       "    <tr>\n",
       "      <th>3</th>\n",
       "      <td>4</td>\n",
       "      <td>I</td>\n",
       "    </tr>\n",
       "    <tr>\n",
       "      <th>4</th>\n",
       "      <td>5</td>\n",
       "      <td>R</td>\n",
       "    </tr>\n",
       "  </tbody>\n",
       "</table>\n",
       "</div>"
      ],
      "text/plain": [
       "   ID Class\n",
       "0   1     n\n",
       "1   2     8\n",
       "2   3     T\n",
       "3   4     I\n",
       "4   5     R"
      ]
     },
     "execution_count": 10,
     "metadata": {},
     "output_type": "execute_result"
    }
   ],
   "source": [
    "print data.shape\n",
    "print type(data)\n",
    "data.head()"
   ]
  },
  {
   "cell_type": "code",
   "execution_count": 11,
   "metadata": {},
   "outputs": [
    {
     "name": "stdout",
     "output_type": "stream",
     "text": [
      "(6283, 2)\n",
      "(6283, 1)\n"
     ]
    }
   ],
   "source": [
    "print data.shape\n",
    "data = data.drop([\"ID\"],axis=1)\n",
    "print data.shape"
   ]
  },
  {
   "cell_type": "code",
   "execution_count": 12,
   "metadata": {},
   "outputs": [
    {
     "name": "stdout",
     "output_type": "stream",
     "text": [
      "(6283, 62)\n"
     ]
    }
   ],
   "source": [
    "data = pd.get_dummies(data)\n",
    "print data.shape"
   ]
  },
  {
   "cell_type": "code",
   "execution_count": 13,
   "metadata": {},
   "outputs": [
    {
     "name": "stdout",
     "output_type": "stream",
     "text": [
      "<class 'pandas.core.frame.DataFrame'>\n",
      "(6283, 62)\n"
     ]
    },
    {
     "data": {
      "text/html": [
       "<div>\n",
       "<style scoped>\n",
       "    .dataframe tbody tr th:only-of-type {\n",
       "        vertical-align: middle;\n",
       "    }\n",
       "\n",
       "    .dataframe tbody tr th {\n",
       "        vertical-align: top;\n",
       "    }\n",
       "\n",
       "    .dataframe thead th {\n",
       "        text-align: right;\n",
       "    }\n",
       "</style>\n",
       "<table border=\"1\" class=\"dataframe\">\n",
       "  <thead>\n",
       "    <tr style=\"text-align: right;\">\n",
       "      <th></th>\n",
       "      <th>Class_0</th>\n",
       "      <th>Class_1</th>\n",
       "      <th>Class_2</th>\n",
       "      <th>Class_3</th>\n",
       "      <th>Class_4</th>\n",
       "      <th>Class_5</th>\n",
       "      <th>Class_6</th>\n",
       "      <th>Class_7</th>\n",
       "      <th>Class_8</th>\n",
       "      <th>Class_9</th>\n",
       "      <th>...</th>\n",
       "      <th>Class_q</th>\n",
       "      <th>Class_r</th>\n",
       "      <th>Class_s</th>\n",
       "      <th>Class_t</th>\n",
       "      <th>Class_u</th>\n",
       "      <th>Class_v</th>\n",
       "      <th>Class_w</th>\n",
       "      <th>Class_x</th>\n",
       "      <th>Class_y</th>\n",
       "      <th>Class_z</th>\n",
       "    </tr>\n",
       "  </thead>\n",
       "  <tbody>\n",
       "    <tr>\n",
       "      <th>0</th>\n",
       "      <td>0</td>\n",
       "      <td>0</td>\n",
       "      <td>0</td>\n",
       "      <td>0</td>\n",
       "      <td>0</td>\n",
       "      <td>0</td>\n",
       "      <td>0</td>\n",
       "      <td>0</td>\n",
       "      <td>0</td>\n",
       "      <td>0</td>\n",
       "      <td>...</td>\n",
       "      <td>0</td>\n",
       "      <td>0</td>\n",
       "      <td>0</td>\n",
       "      <td>0</td>\n",
       "      <td>0</td>\n",
       "      <td>0</td>\n",
       "      <td>0</td>\n",
       "      <td>0</td>\n",
       "      <td>0</td>\n",
       "      <td>0</td>\n",
       "    </tr>\n",
       "    <tr>\n",
       "      <th>1</th>\n",
       "      <td>0</td>\n",
       "      <td>0</td>\n",
       "      <td>0</td>\n",
       "      <td>0</td>\n",
       "      <td>0</td>\n",
       "      <td>0</td>\n",
       "      <td>0</td>\n",
       "      <td>0</td>\n",
       "      <td>1</td>\n",
       "      <td>0</td>\n",
       "      <td>...</td>\n",
       "      <td>0</td>\n",
       "      <td>0</td>\n",
       "      <td>0</td>\n",
       "      <td>0</td>\n",
       "      <td>0</td>\n",
       "      <td>0</td>\n",
       "      <td>0</td>\n",
       "      <td>0</td>\n",
       "      <td>0</td>\n",
       "      <td>0</td>\n",
       "    </tr>\n",
       "    <tr>\n",
       "      <th>2</th>\n",
       "      <td>0</td>\n",
       "      <td>0</td>\n",
       "      <td>0</td>\n",
       "      <td>0</td>\n",
       "      <td>0</td>\n",
       "      <td>0</td>\n",
       "      <td>0</td>\n",
       "      <td>0</td>\n",
       "      <td>0</td>\n",
       "      <td>0</td>\n",
       "      <td>...</td>\n",
       "      <td>0</td>\n",
       "      <td>0</td>\n",
       "      <td>0</td>\n",
       "      <td>0</td>\n",
       "      <td>0</td>\n",
       "      <td>0</td>\n",
       "      <td>0</td>\n",
       "      <td>0</td>\n",
       "      <td>0</td>\n",
       "      <td>0</td>\n",
       "    </tr>\n",
       "    <tr>\n",
       "      <th>3</th>\n",
       "      <td>0</td>\n",
       "      <td>0</td>\n",
       "      <td>0</td>\n",
       "      <td>0</td>\n",
       "      <td>0</td>\n",
       "      <td>0</td>\n",
       "      <td>0</td>\n",
       "      <td>0</td>\n",
       "      <td>0</td>\n",
       "      <td>0</td>\n",
       "      <td>...</td>\n",
       "      <td>0</td>\n",
       "      <td>0</td>\n",
       "      <td>0</td>\n",
       "      <td>0</td>\n",
       "      <td>0</td>\n",
       "      <td>0</td>\n",
       "      <td>0</td>\n",
       "      <td>0</td>\n",
       "      <td>0</td>\n",
       "      <td>0</td>\n",
       "    </tr>\n",
       "    <tr>\n",
       "      <th>4</th>\n",
       "      <td>0</td>\n",
       "      <td>0</td>\n",
       "      <td>0</td>\n",
       "      <td>0</td>\n",
       "      <td>0</td>\n",
       "      <td>0</td>\n",
       "      <td>0</td>\n",
       "      <td>0</td>\n",
       "      <td>0</td>\n",
       "      <td>0</td>\n",
       "      <td>...</td>\n",
       "      <td>0</td>\n",
       "      <td>0</td>\n",
       "      <td>0</td>\n",
       "      <td>0</td>\n",
       "      <td>0</td>\n",
       "      <td>0</td>\n",
       "      <td>0</td>\n",
       "      <td>0</td>\n",
       "      <td>0</td>\n",
       "      <td>0</td>\n",
       "    </tr>\n",
       "  </tbody>\n",
       "</table>\n",
       "<p>5 rows × 62 columns</p>\n",
       "</div>"
      ],
      "text/plain": [
       "   Class_0  Class_1  Class_2  Class_3  Class_4  Class_5  Class_6  Class_7  \\\n",
       "0        0        0        0        0        0        0        0        0   \n",
       "1        0        0        0        0        0        0        0        0   \n",
       "2        0        0        0        0        0        0        0        0   \n",
       "3        0        0        0        0        0        0        0        0   \n",
       "4        0        0        0        0        0        0        0        0   \n",
       "\n",
       "   Class_8  Class_9   ...     Class_q  Class_r  Class_s  Class_t  Class_u  \\\n",
       "0        0        0   ...           0        0        0        0        0   \n",
       "1        1        0   ...           0        0        0        0        0   \n",
       "2        0        0   ...           0        0        0        0        0   \n",
       "3        0        0   ...           0        0        0        0        0   \n",
       "4        0        0   ...           0        0        0        0        0   \n",
       "\n",
       "   Class_v  Class_w  Class_x  Class_y  Class_z  \n",
       "0        0        0        0        0        0  \n",
       "1        0        0        0        0        0  \n",
       "2        0        0        0        0        0  \n",
       "3        0        0        0        0        0  \n",
       "4        0        0        0        0        0  \n",
       "\n",
       "[5 rows x 62 columns]"
      ]
     },
     "execution_count": 13,
     "metadata": {},
     "output_type": "execute_result"
    }
   ],
   "source": [
    "print type(data)\n",
    "print data.shape\n",
    "data.head()"
   ]
  },
  {
   "cell_type": "code",
   "execution_count": 14,
   "metadata": {},
   "outputs": [
    {
     "name": "stdout",
     "output_type": "stream",
     "text": [
      "Class_0\n",
      "62\n"
     ]
    }
   ],
   "source": [
    "lt = list(data)\n",
    "print lt[0]\n",
    "print len(lt)"
   ]
  },
  {
   "cell_type": "code",
   "execution_count": 15,
   "metadata": {},
   "outputs": [
    {
     "name": "stdout",
     "output_type": "stream",
     "text": [
      "<type 'numpy.ndarray'>\n"
     ]
    }
   ],
   "source": [
    "Y = data.values[:,:]\n",
    "print type(Y)"
   ]
  },
  {
   "cell_type": "code",
   "execution_count": 16,
   "metadata": {},
   "outputs": [
    {
     "name": "stdout",
     "output_type": "stream",
     "text": [
      "[[0 0 0 ..., 0 0 0]\n",
      " [0 0 0 ..., 0 0 0]\n",
      " [0 0 0 ..., 0 0 0]\n",
      " ..., \n",
      " [0 0 0 ..., 0 0 0]\n",
      " [0 0 0 ..., 0 0 0]\n",
      " [0 0 0 ..., 0 0 0]]\n",
      "(6283, 62)\n"
     ]
    }
   ],
   "source": [
    "print Y\n",
    "print Y.shape"
   ]
  },
  {
   "cell_type": "code",
   "execution_count": 17,
   "metadata": {},
   "outputs": [
    {
     "name": "stdout",
     "output_type": "stream",
     "text": [
      "<type 'numpy.ndarray'>\n"
     ]
    }
   ],
   "source": [
    "print type(Y)"
   ]
  },
  {
   "cell_type": "code",
   "execution_count": 18,
   "metadata": {},
   "outputs": [],
   "source": [
    "source ='/home/akshay/Downloads/Kaggle data set/First step with julia/trainResized/'"
   ]
  },
  {
   "cell_type": "code",
   "execution_count": 19,
   "metadata": {},
   "outputs": [
    {
     "name": "stdout",
     "output_type": "stream",
     "text": [
      "<type 'list'>\n",
      "6283\n",
      "1873.Bmp\n"
     ]
    }
   ],
   "source": [
    "total = os.listdir(source)\n",
    "print type(total)\n",
    "print len(total)\n",
    "print total[0]"
   ]
  },
  {
   "cell_type": "code",
   "execution_count": 20,
   "metadata": {},
   "outputs": [],
   "source": [
    "total.sort()"
   ]
  },
  {
   "cell_type": "code",
   "execution_count": 21,
   "metadata": {},
   "outputs": [
    {
     "data": {
      "text/plain": [
       "['1.Bmp', '10.Bmp', '100.Bmp', '1000.Bmp', '1001.Bmp']"
      ]
     },
     "execution_count": 21,
     "metadata": {},
     "output_type": "execute_result"
    }
   ],
   "source": [
    "total[:5]"
   ]
  },
  {
   "cell_type": "code",
   "execution_count": 22,
   "metadata": {},
   "outputs": [],
   "source": [
    "p = []\n",
    "for ix in range(1,6284):\n",
    "    temp =str(ix)\n",
    "    p.append(temp)"
   ]
  },
  {
   "cell_type": "code",
   "execution_count": 23,
   "metadata": {},
   "outputs": [
    {
     "name": "stdout",
     "output_type": "stream",
     "text": [
      "6283\n",
      "1 6283\n"
     ]
    }
   ],
   "source": [
    "print len(p)\n",
    "print p[0],p[6282]"
   ]
  },
  {
   "cell_type": "code",
   "execution_count": 24,
   "metadata": {},
   "outputs": [],
   "source": [
    "l = []\n",
    "for ix in p:\n",
    "    path = source + ix +'.Bmp'\n",
    "    im = cv2.imread(path)\n",
    "    img1= cv2.cvtColor(im,cv2.COLOR_BGR2RGB)\n",
    "    img = cv2.cvtColor(im,cv2.COLOR_BGR2GRAY)\n",
    "    img = np.asarray(img).reshape(-1)\n",
    "    img = img/255.0\n",
    "    l.append([img])\n",
    "    #break\n",
    "    "
   ]
  },
  {
   "cell_type": "code",
   "execution_count": 25,
   "metadata": {},
   "outputs": [
    {
     "name": "stdout",
     "output_type": "stream",
     "text": [
      "1\n"
     ]
    }
   ],
   "source": [
    "print len(l[0])\n",
    "#print l[0]"
   ]
  },
  {
   "cell_type": "code",
   "execution_count": 26,
   "metadata": {},
   "outputs": [
    {
     "name": "stdout",
     "output_type": "stream",
     "text": [
      "(6283, 1, 400)\n"
     ]
    }
   ],
   "source": [
    "X= np.array(l)\n",
    "print X.shape"
   ]
  },
  {
   "cell_type": "code",
   "execution_count": 27,
   "metadata": {},
   "outputs": [],
   "source": [
    "#X_train[0]"
   ]
  },
  {
   "cell_type": "code",
   "execution_count": 28,
   "metadata": {},
   "outputs": [
    {
     "name": "stdout",
     "output_type": "stream",
     "text": [
      "(6283, 400)\n"
     ]
    }
   ],
   "source": [
    "X = X.reshape(6283,400)\n",
    "print X.shape"
   ]
  },
  {
   "cell_type": "code",
   "execution_count": 29,
   "metadata": {},
   "outputs": [
    {
     "name": "stdout",
     "output_type": "stream",
     "text": [
      "(5026, 400) (1257, 400)\n",
      "(5026, 62) (1257, 62)\n",
      "<type 'numpy.ndarray'>\n"
     ]
    }
   ],
   "source": [
    "split = int(0.8*data.shape[0])\n",
    "\n",
    "X_train = X[:split,:]\n",
    "X_test = X[split:,:]\n",
    "\n",
    "Y_train = Y[:split,:]\n",
    "Y_test = Y[split:,:]\n",
    "\n",
    "print X_train.shape,X_test.shape\n",
    "print Y_train.shape,Y_test.shape\n",
    "print type(X_train)"
   ]
  },
  {
   "cell_type": "code",
   "execution_count": 30,
   "metadata": {},
   "outputs": [
    {
     "name": "stdout",
     "output_type": "stream",
     "text": [
      "(400,)\n",
      "(62,)\n"
     ]
    }
   ],
   "source": [
    "#done to check whether x and y are correctly matched\n",
    "x = X_train[0]\n",
    "y = Y_train[0]\n",
    "print x.shape\n",
    "print y.shape"
   ]
  },
  {
   "cell_type": "code",
   "execution_count": 31,
   "metadata": {},
   "outputs": [
    {
     "name": "stdout",
     "output_type": "stream",
     "text": [
      "[0 0 0 0 0 0 0 0 0 0 0 0 0 0 0 0 0 0 0 0 0 0 0 0 0 0 0 0 0 0 0 0 0 0 0 0 0\n",
      " 0 0 0 0 0 0 0 0 0 0 0 0 1 0 0 0 0 0 0 0 0 0 0 0 0]\n"
     ]
    },
    {
     "data": {
      "image/png": "[encoded data removed]",
      "text/plain": [
       "<matplotlib.figure.Figure at 0x7f0c97a0acd0>"
      ]
     },
     "metadata": {},
     "output_type": "display_data"
    }
   ],
   "source": [
    "print y\n",
    "img = x.reshape(20,20)\n",
    "plt.imshow(img)\n",
    "plt.show()"
   ]
  },
  {
   "cell_type": "code",
   "execution_count": 32,
   "metadata": {},
   "outputs": [
    {
     "name": "stdout",
     "output_type": "stream",
     "text": [
      "_________________________________________________________________\n",
      "Layer (type)                 Output Shape              Param #   \n",
      "=================================================================\n",
      "dense_1 (Dense)              (None, 10)                4010      \n",
      "_________________________________________________________________\n",
      "activation_1 (Activation)    (None, 10)                0         \n",
      "_________________________________________________________________\n",
      "dense_2 (Dense)              (None, 25)                275       \n",
      "_________________________________________________________________\n",
      "activation_2 (Activation)    (None, 25)                0         \n",
      "_________________________________________________________________\n",
      "dense_3 (Dense)              (None, 62)                1612      \n",
      "_________________________________________________________________\n",
      "activation_3 (Activation)    (None, 62)                0         \n",
      "=================================================================\n",
      "Total params: 5,897\n",
      "Trainable params: 5,897\n",
      "Non-trainable params: 0\n",
      "_________________________________________________________________\n"
     ]
    }
   ],
   "source": [
    "model = Sequential()\n",
    "model.add(Dense(10,input_shape=(400,)))\n",
    "model.add(Activation('relu'))\n",
    "model.add(Dense(25))\n",
    "model.add(Activation('relu'))\n",
    "model.add(Dense(62))\n",
    "model.add(Activation('softmax'))\n",
    "\n",
    "model.summary()"
   ]
  },
  {
   "cell_type": "code",
   "execution_count": 33,
   "metadata": {},
   "outputs": [],
   "source": [
    "model.compile( optimizer = 'adam' , loss = 'categorical_crossentropy' , metrics = ['accuracy']) "
   ]
  },
  {
   "cell_type": "code",
   "execution_count": 34,
   "metadata": {},
   "outputs": [
    {
     "name": "stderr",
     "output_type": "stream",
     "text": [
      "/home/akshay/.local/lib/python2.7/site-packages/keras/models.py:939: UserWarning: The `nb_epoch` argument in `fit` has been renamed `epochs`.\n",
      "  warnings.warn('The `nb_epoch` argument in `fit` '\n"
     ]
    },
    {
     "name": "stdout",
     "output_type": "stream",
     "text": [
      "Train on 5026 samples, validate on 1257 samples\n",
      "Epoch 1/50\n",
      " - 1s - loss: 3.9061 - acc: 0.0613 - val_loss: 3.7701 - val_acc: 0.0819\n",
      "Epoch 2/50\n",
      " - 1s - loss: 3.7912 - acc: 0.0830 - val_loss: 3.7463 - val_acc: 0.0875\n",
      "Epoch 3/50\n",
      " - 1s - loss: 3.7435 - acc: 0.0933 - val_loss: 3.6795 - val_acc: 0.0875\n",
      "Epoch 4/50\n",
      " - 1s - loss: 3.6632 - acc: 0.1122 - val_loss: 3.6071 - val_acc: 0.1233\n",
      "Epoch 5/50\n",
      " - 1s - loss: 3.5718 - acc: 0.1373 - val_loss: 3.5017 - val_acc: 0.1718\n",
      "Epoch 6/50\n",
      " - 1s - loss: 3.4543 - acc: 0.1653 - val_loss: 3.4210 - val_acc: 0.1877\n",
      "Epoch 7/50\n",
      " - 1s - loss: 3.3478 - acc: 0.1886 - val_loss: 3.3223 - val_acc: 0.2045\n",
      "Epoch 8/50\n",
      " - 1s - loss: 3.2436 - acc: 0.2105 - val_loss: 3.2199 - val_acc: 0.2180\n",
      "Epoch 9/50\n",
      " - 1s - loss: 3.1404 - acc: 0.2270 - val_loss: 3.1175 - val_acc: 0.2212\n",
      "Epoch 10/50\n",
      " - 1s - loss: 3.0539 - acc: 0.2384 - val_loss: 3.0672 - val_acc: 0.2371\n",
      "Epoch 11/50\n",
      " - 1s - loss: 2.9719 - acc: 0.2545 - val_loss: 3.0304 - val_acc: 0.2506\n",
      "Epoch 12/50\n",
      " - 1s - loss: 2.9092 - acc: 0.2630 - val_loss: 2.9562 - val_acc: 0.2554\n",
      "Epoch 13/50\n",
      " - 1s - loss: 2.8631 - acc: 0.2752 - val_loss: 2.9179 - val_acc: 0.2737\n",
      "Epoch 14/50\n",
      " - 1s - loss: 2.8253 - acc: 0.2817 - val_loss: 2.9187 - val_acc: 0.2673\n",
      "Epoch 15/50\n",
      " - 1s - loss: 2.7714 - acc: 0.2895 - val_loss: 2.8717 - val_acc: 0.2689\n",
      "Epoch 16/50\n",
      " - 1s - loss: 2.7366 - acc: 0.2990 - val_loss: 2.8696 - val_acc: 0.2880\n",
      "Epoch 17/50\n",
      " - 1s - loss: 2.7146 - acc: 0.3070 - val_loss: 2.8364 - val_acc: 0.2840\n",
      "Epoch 18/50\n",
      " - 1s - loss: 2.6807 - acc: 0.3076 - val_loss: 2.7877 - val_acc: 0.2904\n",
      "Epoch 19/50\n",
      " - 1s - loss: 2.6599 - acc: 0.3112 - val_loss: 2.7961 - val_acc: 0.2848\n",
      "Epoch 20/50\n",
      " - 1s - loss: 2.6376 - acc: 0.3219 - val_loss: 2.7734 - val_acc: 0.2959\n",
      "Epoch 21/50\n",
      " - 1s - loss: 2.6177 - acc: 0.3281 - val_loss: 2.7992 - val_acc: 0.2824\n",
      "Epoch 22/50\n",
      " - 1s - loss: 2.5967 - acc: 0.3275 - val_loss: 2.8346 - val_acc: 0.2832\n",
      "Epoch 23/50\n",
      " - 1s - loss: 2.5810 - acc: 0.3378 - val_loss: 2.7692 - val_acc: 0.3039\n",
      "Epoch 24/50\n",
      " - 1s - loss: 2.5494 - acc: 0.3384 - val_loss: 2.7387 - val_acc: 0.3119\n",
      "Epoch 25/50\n",
      " - 1s - loss: 2.5354 - acc: 0.3402 - val_loss: 2.7141 - val_acc: 0.3222\n",
      "Epoch 26/50\n",
      " - 1s - loss: 2.5206 - acc: 0.3466 - val_loss: 2.7267 - val_acc: 0.3190\n",
      "Epoch 27/50\n",
      " - 1s - loss: 2.5076 - acc: 0.3440 - val_loss: 2.7186 - val_acc: 0.3190\n",
      "Epoch 28/50\n",
      " - 1s - loss: 2.4951 - acc: 0.3506 - val_loss: 2.6821 - val_acc: 0.3158\n",
      "Epoch 29/50\n",
      " - 1s - loss: 2.4844 - acc: 0.3540 - val_loss: 2.6707 - val_acc: 0.3278\n",
      "Epoch 30/50\n",
      " - 1s - loss: 2.4628 - acc: 0.3563 - val_loss: 2.6661 - val_acc: 0.3262\n",
      "Epoch 31/50\n",
      " - 1s - loss: 2.4481 - acc: 0.3593 - val_loss: 2.6432 - val_acc: 0.3286\n",
      "Epoch 32/50\n",
      " - 1s - loss: 2.4453 - acc: 0.3643 - val_loss: 2.6815 - val_acc: 0.3158\n",
      "Epoch 33/50\n",
      " - 1s - loss: 2.4190 - acc: 0.3669 - val_loss: 2.7149 - val_acc: 0.3079\n",
      "Epoch 34/50\n",
      " - 1s - loss: 2.4161 - acc: 0.3697 - val_loss: 2.6509 - val_acc: 0.3349\n",
      "Epoch 35/50\n",
      " - 1s - loss: 2.4095 - acc: 0.3679 - val_loss: 2.6373 - val_acc: 0.3286\n",
      "Epoch 36/50\n",
      " - 1s - loss: 2.3862 - acc: 0.3812 - val_loss: 2.6481 - val_acc: 0.3222\n",
      "Epoch 37/50\n",
      " - 1s - loss: 2.3861 - acc: 0.3758 - val_loss: 2.6349 - val_acc: 0.3373\n",
      "Epoch 38/50\n",
      " - 1s - loss: 2.3821 - acc: 0.3766 - val_loss: 2.6126 - val_acc: 0.3413\n",
      "Epoch 39/50\n",
      " - 1s - loss: 2.3707 - acc: 0.3764 - val_loss: 2.6022 - val_acc: 0.3580\n",
      "Epoch 40/50\n",
      " - 1s - loss: 2.3459 - acc: 0.3810 - val_loss: 2.6089 - val_acc: 0.3397\n",
      "Epoch 41/50\n",
      " - 1s - loss: 2.3371 - acc: 0.3852 - val_loss: 2.6465 - val_acc: 0.3453\n",
      "Epoch 42/50\n",
      " - 1s - loss: 2.3352 - acc: 0.3880 - val_loss: 2.6068 - val_acc: 0.3564\n",
      "Epoch 43/50\n",
      " - 1s - loss: 2.3273 - acc: 0.3874 - val_loss: 2.5969 - val_acc: 0.3516\n",
      "Epoch 44/50\n",
      " - 1s - loss: 2.3097 - acc: 0.3945 - val_loss: 2.6294 - val_acc: 0.3397\n",
      "Epoch 45/50\n",
      " - 1s - loss: 2.3000 - acc: 0.3936 - val_loss: 2.5891 - val_acc: 0.3548\n",
      "Epoch 46/50\n",
      " - 1s - loss: 2.2981 - acc: 0.3940 - val_loss: 2.5937 - val_acc: 0.3636\n",
      "Epoch 47/50\n",
      " - 1s - loss: 2.2749 - acc: 0.4011 - val_loss: 2.6022 - val_acc: 0.3556\n",
      "Epoch 48/50\n",
      " - 1s - loss: 2.2827 - acc: 0.4007 - val_loss: 2.5723 - val_acc: 0.3620\n",
      "Epoch 49/50\n",
      " - 1s - loss: 2.2736 - acc: 0.3985 - val_loss: 2.6086 - val_acc: 0.3421\n",
      "Epoch 50/50\n",
      " - 1s - loss: 2.2714 - acc: 0.4027 - val_loss: 2.6019 - val_acc: 0.3500\n"
     ]
    },
    {
     "data": {
      "text/plain": [
       "<keras.callbacks.History at 0x7f0c964033d0>"
      ]
     },
     "execution_count": 34,
     "metadata": {},
     "output_type": "execute_result"
    }
   ],
   "source": [
    "model.fit(X_train,Y_train , batch_size=16 , nb_epoch=50 , verbose = 2, validation_data = (X_test,Y_test))"
   ]
  },
  {
   "cell_type": "code",
   "execution_count": 35,
   "metadata": {},
   "outputs": [],
   "source": [
    "test_path = '/home/akshay/Downloads/Kaggle data set/First step with julia/testResized/'"
   ]
  },
  {
   "cell_type": "code",
   "execution_count": 36,
   "metadata": {},
   "outputs": [
    {
     "name": "stdout",
     "output_type": "stream",
     "text": [
      "<type 'list'>\n",
      "6220\n",
      "7277.Bmp\n"
     ]
    }
   ],
   "source": [
    "test = os.listdir(test_path)\n",
    "print type(test)\n",
    "print len(test)\n",
    "print test[0]"
   ]
  },
  {
   "cell_type": "code",
   "execution_count": 37,
   "metadata": {},
   "outputs": [],
   "source": [
    "v = []\n",
    "for ix in range(6284,12504):\n",
    "    #print ix \n",
    "    temp =str(ix)\n",
    "    v.append(temp)\n",
    "    #break"
   ]
  },
  {
   "cell_type": "code",
   "execution_count": 38,
   "metadata": {},
   "outputs": [
    {
     "name": "stdout",
     "output_type": "stream",
     "text": [
      "6220\n"
     ]
    }
   ],
   "source": [
    "print len(v)"
   ]
  },
  {
   "cell_type": "code",
   "execution_count": 39,
   "metadata": {},
   "outputs": [
    {
     "name": "stdout",
     "output_type": "stream",
     "text": [
      "6284 12503\n"
     ]
    }
   ],
   "source": [
    "print v[0],v[6219]"
   ]
  },
  {
   "cell_type": "code",
   "execution_count": 40,
   "metadata": {},
   "outputs": [],
   "source": [
    "t = []\n",
    "for ix in v:\n",
    "    path = test_path+ ix +'.Bmp'\n",
    "    im = cv2.imread(path)\n",
    "    img1 = cv2.cvtColor(im,cv2.COLOR_BGR2RGB) \n",
    "    img = cv2.cvtColor(im,cv2.COLOR_BGR2GRAY)\n",
    "    img = np.asarray(img).reshape(-1)\n",
    "    img = img/255.0\n",
    "    t.append([img])"
   ]
  },
  {
   "cell_type": "code",
   "execution_count": 41,
   "metadata": {},
   "outputs": [
    {
     "name": "stdout",
     "output_type": "stream",
     "text": [
      "(6220, 1, 400)\n"
     ]
    }
   ],
   "source": [
    "test_data = np.array(t)\n",
    "print test_data.shape"
   ]
  },
  {
   "cell_type": "code",
   "execution_count": 42,
   "metadata": {},
   "outputs": [
    {
     "name": "stdout",
     "output_type": "stream",
     "text": [
      "(6220, 400)\n"
     ]
    }
   ],
   "source": [
    "test_data = test_data.reshape(6220,400)\n",
    "print test_data.shape"
   ]
  },
  {
   "cell_type": "code",
   "execution_count": 43,
   "metadata": {},
   "outputs": [],
   "source": [
    "y_pred = model.predict(test_data)"
   ]
  },
  {
   "cell_type": "code",
   "execution_count": 44,
   "metadata": {},
   "outputs": [
    {
     "data": {
      "text/plain": [
       "(6220, 62)"
      ]
     },
     "execution_count": 44,
     "metadata": {},
     "output_type": "execute_result"
    }
   ],
   "source": [
    "y_pred.shape"
   ]
  },
  {
   "cell_type": "code",
   "execution_count": 45,
   "metadata": {},
   "outputs": [
    {
     "data": {
      "text/plain": [
       "array([  5.67469746e-03,   1.99478548e-02,   1.79451443e-02,\n",
       "         1.92781200e-03,   7.69521967e-02,   3.78094119e-04,\n",
       "         3.57969431e-04,   1.30220857e-02,   1.15201394e-04,\n",
       "         7.55323737e-04,   1.26481473e-01,   8.49646050e-04,\n",
       "         1.10929199e-02,   4.42665396e-03,   3.73270772e-02,\n",
       "         5.45766903e-03,   3.39055480e-03,   9.44378902e-04,\n",
       "         1.79724157e-01,   6.06395565e-02,   2.06082757e-03,\n",
       "         9.87376086e-03,   1.72760012e-03,   6.45043096e-04,\n",
       "         8.49103741e-03,   7.99179717e-04,   7.16959825e-03,\n",
       "         1.82882068e-03,   2.86249514e-03,   5.48364036e-02,\n",
       "         3.28924600e-03,   2.54883477e-03,   1.11117982e-03,\n",
       "         3.79012013e-03,   3.66060063e-03,   3.36336531e-02,\n",
       "         1.33159915e-02,   6.28361377e-05,   1.76037068e-03,\n",
       "         1.21530518e-02,   4.43251990e-03,   6.83813589e-03,\n",
       "         2.04078271e-03,   3.22940148e-04,   7.88712129e-02,\n",
       "         2.11749896e-02,   1.03346852e-03,   6.84389099e-02,\n",
       "         1.91538164e-03,   8.62264249e-04,   3.66198155e-03,\n",
       "         1.43680756e-03,   4.54695569e-03,   2.48665884e-02,\n",
       "         2.50155688e-03,   2.51488145e-02,   1.09845935e-03,\n",
       "         4.56165615e-03,   7.79683876e-04,   1.85533031e-03,\n",
       "         4.26321384e-03,   6.31720293e-03], dtype=float32)"
      ]
     },
     "execution_count": 45,
     "metadata": {},
     "output_type": "execute_result"
    }
   ],
   "source": [
    "y_pred[0]"
   ]
  },
  {
   "cell_type": "code",
   "execution_count": 46,
   "metadata": {},
   "outputs": [
    {
     "data": {
      "text/plain": [
       "0.0056746975"
      ]
     },
     "execution_count": 46,
     "metadata": {},
     "output_type": "execute_result"
    }
   ],
   "source": [
    "y_pred[0][0]"
   ]
  },
  {
   "cell_type": "code",
   "execution_count": 47,
   "metadata": {},
   "outputs": [
    {
     "name": "stdout",
     "output_type": "stream",
     "text": [
      "0.179724\n",
      "18\n",
      "0.179724\n"
     ]
    }
   ],
   "source": [
    "print y_pred[0].max()\n",
    "print y_pred[0].argmax()\n",
    "\n",
    "print y_pred[0][y_pred[0].argmax()]"
   ]
  },
  {
   "cell_type": "code",
   "execution_count": 48,
   "metadata": {},
   "outputs": [
    {
     "name": "stdout",
     "output_type": "stream",
     "text": [
      "Index([u'Class_0', u'Class_1', u'Class_2', u'Class_3', u'Class_4', u'Class_5',\n",
      "       u'Class_6', u'Class_7', u'Class_8', u'Class_9', u'Class_A', u'Class_B',\n",
      "       u'Class_C', u'Class_D', u'Class_E', u'Class_F', u'Class_G', u'Class_H',\n",
      "       u'Class_I', u'Class_J', u'Class_K', u'Class_L', u'Class_M', u'Class_N',\n",
      "       u'Class_O', u'Class_P', u'Class_Q', u'Class_R', u'Class_S', u'Class_T',\n",
      "       u'Class_U', u'Class_V', u'Class_W', u'Class_X', u'Class_Y', u'Class_Z',\n",
      "       u'Class_a', u'Class_b', u'Class_c', u'Class_d', u'Class_e', u'Class_f',\n",
      "       u'Class_g', u'Class_h', u'Class_i', u'Class_j', u'Class_k', u'Class_l',\n",
      "       u'Class_m', u'Class_n', u'Class_o', u'Class_p', u'Class_q', u'Class_r',\n",
      "       u'Class_s', u'Class_t', u'Class_u', u'Class_v', u'Class_w', u'Class_x',\n",
      "       u'Class_y', u'Class_z'],\n",
      "      dtype='object')\n"
     ]
    }
   ],
   "source": [
    "c = data.columns\n",
    "print c"
   ]
  },
  {
   "cell_type": "code",
   "execution_count": 49,
   "metadata": {},
   "outputs": [
    {
     "name": "stdout",
     "output_type": "stream",
     "text": [
      "<class 'pandas.core.indexes.base.Index'>\n"
     ]
    }
   ],
   "source": [
    "print type(c)"
   ]
  },
  {
   "cell_type": "code",
   "execution_count": 50,
   "metadata": {},
   "outputs": [],
   "source": [
    "dict_={}\n",
    "count = 0\n",
    "\n",
    "for ix in c:\n",
    "    dict_[count] = ix[-1]\n",
    "    count = count + 1"
   ]
  },
  {
   "cell_type": "code",
   "execution_count": 51,
   "metadata": {},
   "outputs": [
    {
     "name": "stdout",
     "output_type": "stream",
     "text": [
      "{0: '0', 1: '1', 2: '2', 3: '3', 4: '4', 5: '5', 6: '6', 7: '7', 8: '8', 9: '9', 10: 'A', 11: 'B', 12: 'C', 13: 'D', 14: 'E', 15: 'F', 16: 'G', 17: 'H', 18: 'I', 19: 'J', 20: 'K', 21: 'L', 22: 'M', 23: 'N', 24: 'O', 25: 'P', 26: 'Q', 27: 'R', 28: 'S', 29: 'T', 30: 'U', 31: 'V', 32: 'W', 33: 'X', 34: 'Y', 35: 'Z', 36: 'a', 37: 'b', 38: 'c', 39: 'd', 40: 'e', 41: 'f', 42: 'g', 43: 'h', 44: 'i', 45: 'j', 46: 'k', 47: 'l', 48: 'm', 49: 'n', 50: 'o', 51: 'p', 52: 'q', 53: 'r', 54: 's', 55: 't', 56: 'u', 57: 'v', 58: 'w', 59: 'x', 60: 'y', 61: 'z'}\n"
     ]
    }
   ],
   "source": [
    "print dict_"
   ]
  },
  {
   "cell_type": "code",
   "execution_count": 52,
   "metadata": {},
   "outputs": [
    {
     "name": "stdout",
     "output_type": "stream",
     "text": [
      "S\n"
     ]
    }
   ],
   "source": [
    "print dict_[28]"
   ]
  },
  {
   "cell_type": "code",
   "execution_count": 53,
   "metadata": {},
   "outputs": [],
   "source": [
    "ans = []\n",
    "#i = []\n",
    "for ix in range(y_pred.shape[0]):\n",
    "    #print ix\n",
    "    #i.append(ix)\n",
    "    temp = y_pred[ix].argmax()\n",
    "    ans.append(dict_[temp])"
   ]
  },
  {
   "cell_type": "code",
   "execution_count": 55,
   "metadata": {},
   "outputs": [
    {
     "name": "stdout",
     "output_type": "stream",
     "text": [
      "<type 'numpy.ndarray'>\n",
      "<type 'numpy.ndarray'>\n",
      "(6220,)\n",
      "I\n"
     ]
    }
   ],
   "source": [
    "print type(ans)\n",
    "ans = np.array(ans)\n",
    "#i = np.array(i)\n",
    "print type(ans)\n",
    "print ans.shape\n",
    "print ans[0]\n",
    "#print i.shape"
   ]
  },
  {
   "cell_type": "code",
   "execution_count": 56,
   "metadata": {},
   "outputs": [
    {
     "name": "stdout",
     "output_type": "stream",
     "text": [
      "<type 'numpy.ndarray'>\n",
      "<type 'numpy.ndarray'> <type 'numpy.string_'>\n"
     ]
    }
   ],
   "source": [
    "print type(y_pred)\n",
    "print type(y_pred[0]),type(ans[0])"
   ]
  },
  {
   "cell_type": "code",
   "execution_count": 57,
   "metadata": {},
   "outputs": [],
   "source": [
    "#np.savetxt('/home/akshay/Downloads/Kaggle data set/First step with julia/output.csv',ans,delimiter=',')"
   ]
  },
  {
   "cell_type": "code",
   "execution_count": 58,
   "metadata": {},
   "outputs": [
    {
     "name": "stdout",
     "output_type": "stream",
     "text": [
      "(6220, 1)\n",
      "I\n"
     ]
    }
   ],
   "source": [
    "df = pd.DataFrame(data=ans)\n",
    "print df.shape\n",
    "print ans[0]"
   ]
  },
  {
   "cell_type": "code",
   "execution_count": 59,
   "metadata": {},
   "outputs": [
    {
     "data": {
      "text/html": [
       "<div>\n",
       "<style scoped>\n",
       "    .dataframe tbody tr th:only-of-type {\n",
       "        vertical-align: middle;\n",
       "    }\n",
       "\n",
       "    .dataframe tbody tr th {\n",
       "        vertical-align: top;\n",
       "    }\n",
       "\n",
       "    .dataframe thead th {\n",
       "        text-align: right;\n",
       "    }\n",
       "</style>\n",
       "<table border=\"1\" class=\"dataframe\">\n",
       "  <thead>\n",
       "    <tr style=\"text-align: right;\">\n",
       "      <th></th>\n",
       "      <th>0</th>\n",
       "    </tr>\n",
       "  </thead>\n",
       "  <tbody>\n",
       "    <tr>\n",
       "      <th>0</th>\n",
       "      <td>I</td>\n",
       "    </tr>\n",
       "    <tr>\n",
       "      <th>1</th>\n",
       "      <td>E</td>\n",
       "    </tr>\n",
       "    <tr>\n",
       "      <th>2</th>\n",
       "      <td>A</td>\n",
       "    </tr>\n",
       "    <tr>\n",
       "      <th>3</th>\n",
       "      <td>C</td>\n",
       "    </tr>\n",
       "    <tr>\n",
       "      <th>4</th>\n",
       "      <td>P</td>\n",
       "    </tr>\n",
       "  </tbody>\n",
       "</table>\n",
       "</div>"
      ],
      "text/plain": [
       "   0\n",
       "0  I\n",
       "1  E\n",
       "2  A\n",
       "3  C\n",
       "4  P"
      ]
     },
     "execution_count": 59,
     "metadata": {},
     "output_type": "execute_result"
    }
   ],
   "source": [
    "df.head()"
   ]
  },
  {
   "cell_type": "code",
   "execution_count": 62,
   "metadata": {},
   "outputs": [
    {
     "name": "stdout",
     "output_type": "stream",
     "text": [
      "<class 'pandas.core.frame.DataFrame'>\n"
     ]
    }
   ],
   "source": [
    "print type(df)"
   ]
  },
  {
   "cell_type": "code",
   "execution_count": 64,
   "metadata": {},
   "outputs": [],
   "source": [
    "df.to_csv(\"/home/akshay/Downloads/Kaggle data set/First step with julia/output.csv\")"
   ]
  },
  {
   "cell_type": "code",
   "execution_count": null,
   "metadata": {},
   "outputs": [],
   "source": []
  }
 ],
 "metadata": {
  "kernelspec": {
   "display_name": "Python 2",
   "language": "python",
   "name": "python2"
  },
  "language_info": {
   "codemirror_mode": {
    "name": "ipython",
    "version": 2
   },
   "file_extension": ".py",
   "mimetype": "text/x-python",
   "name": "python",
   "nbconvert_exporter": "python",
   "pygments_lexer": "ipython2",
   "version": "2.7.14"
  }
 },
 "nbformat": 4,
 "nbformat_minor": 2
}
